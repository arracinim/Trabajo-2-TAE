{
 "cells": [
  {
   "cell_type": "markdown",
   "metadata": {},
   "source": [
    "# Angel Racini Meza "
   ]
  },
  {
   "cell_type": "markdown",
   "metadata": {},
   "source": [
    "<h1 id=\"tocheading\">Tabla de Contenido</h1>\n",
    "<div id=\"toc\"></div>"
   ]
  },
  {
   "cell_type": "code",
   "execution_count": 292,
   "metadata": {},
   "outputs": [
    {
     "data": {
      "application/javascript": [
       "$.getScript('https://kmahelona.github.io/ipython_notebook_goodies/ipython_notebook_toc.js')\n"
      ],
      "text/plain": [
       "<IPython.core.display.Javascript object>"
      ]
     },
     "metadata": {},
     "output_type": "display_data"
    }
   ],
   "source": [
    "%%javascript\n",
    "$.getScript('https://kmahelona.github.io/ipython_notebook_goodies/ipython_notebook_toc.js')"
   ]
  },
  {
   "cell_type": "markdown",
   "metadata": {},
   "source": [
    "Importando las librerias necesarias para desarrollar todos los puntos"
   ]
  },
  {
   "cell_type": "code",
   "execution_count": 293,
   "metadata": {},
   "outputs": [],
   "source": [
    "import pandas as pd\n",
    "import numpy as np\n",
    "import seaborn as sb\n",
    "import matplotlib.pyplot as plt\n",
    "from sklearn.linear_model import LogisticRegression, LinearRegression\n",
    "from sklearn.feature_selection import SelectKBest, f_classif\n",
    "from sklearn.preprocessing import MinMaxScaler, LabelEncoder\n",
    "from sklearn.discriminant_analysis import LinearDiscriminantAnalysis,QuadraticDiscriminantAnalysis\n",
    "from sklearn.metrics import mean_squared_error, confusion_matrix, classification_report\n",
    "from sklearn import neighbors\n",
    "from sklearn.model_selection import train_test_split\n",
    "from sklearn.ensemble import RandomForestClassifier, GradientBoostingRegressor, GradientBoostingClassifier\n",
    "from sklearn.tree import DecisionTreeRegressor, DecisionTreeClassifier, plot_tree\n",
    "from sklearn import tree\n",
    "import warnings\n",
    "from sklearn.ensemble import RandomForestRegressor\n",
    "import graphviz \n",
    "from graphviz import Source\n",
    "warnings.filterwarnings('ignore')\n",
    "%matplotlib inline"
   ]
  },
  {
   "cell_type": "markdown",
   "metadata": {},
   "source": [
    "Todas los datasets de ISLR se encuentran libre en formato en CSV, en el siguiente enlace: [ISLR](https://github.com/emredjan/ISL-python)"
   ]
  },
  {
   "cell_type": "markdown",
   "metadata": {},
   "source": [
    "## Punto 4.7 "
   ]
  },
  {
   "cell_type": "markdown",
   "metadata": {},
   "source": [
    "<Font color = 'blue'>This question should be answered using the Weekly data set, which\n",
    "is part of the ISLR package. This data is similar in nature to the\n",
    "Smarket data from this chapter’s lab, except that it contains 1, 089\n",
    "weekly returns for 21 years, from the beginning of 1990 to the end of\n",
    "2010.<Font>"
   ]
  },
  {
   "cell_type": "markdown",
   "metadata": {},
   "source": [
    "### Ejercicio 10"
   ]
  },
  {
   "cell_type": "code",
   "execution_count": 306,
   "metadata": {},
   "outputs": [],
   "source": [
    "#Importando los datasets\n",
    "df = pd.read_csv(\"datasets\\Weekly.csv\")\n",
    "df = df.iloc[:,1:]"
   ]
  },
  {
   "cell_type": "markdown",
   "metadata": {},
   "source": [
    "<Font color = 'blue'> A.)\n",
    "    Produce some numerical and graphical summaries of the Weekly\n",
    "data. Do there appear to be any patterns? <Font>"
   ]
  },
  {
   "cell_type": "code",
   "execution_count": 307,
   "metadata": {},
   "outputs": [
    {
     "data": {
      "text/html": [
       "<div>\n",
       "<style scoped>\n",
       "    .dataframe tbody tr th:only-of-type {\n",
       "        vertical-align: middle;\n",
       "    }\n",
       "\n",
       "    .dataframe tbody tr th {\n",
       "        vertical-align: top;\n",
       "    }\n",
       "\n",
       "    .dataframe thead th {\n",
       "        text-align: right;\n",
       "    }\n",
       "</style>\n",
       "<table border=\"1\" class=\"dataframe\">\n",
       "  <thead>\n",
       "    <tr style=\"text-align: right;\">\n",
       "      <th></th>\n",
       "      <th>Year</th>\n",
       "      <th>Lag1</th>\n",
       "      <th>Lag2</th>\n",
       "      <th>Lag3</th>\n",
       "      <th>Lag4</th>\n",
       "      <th>Lag5</th>\n",
       "      <th>Volume</th>\n",
       "      <th>Today</th>\n",
       "    </tr>\n",
       "  </thead>\n",
       "  <tbody>\n",
       "    <tr>\n",
       "      <th>count</th>\n",
       "      <td>1089.000000</td>\n",
       "      <td>1089.000000</td>\n",
       "      <td>1089.000000</td>\n",
       "      <td>1089.000000</td>\n",
       "      <td>1089.000000</td>\n",
       "      <td>1089.000000</td>\n",
       "      <td>1089.000000</td>\n",
       "      <td>1089.000000</td>\n",
       "    </tr>\n",
       "    <tr>\n",
       "      <th>mean</th>\n",
       "      <td>2000.048669</td>\n",
       "      <td>0.150585</td>\n",
       "      <td>0.151079</td>\n",
       "      <td>0.147205</td>\n",
       "      <td>0.145818</td>\n",
       "      <td>0.139893</td>\n",
       "      <td>1.574618</td>\n",
       "      <td>0.149899</td>\n",
       "    </tr>\n",
       "    <tr>\n",
       "      <th>std</th>\n",
       "      <td>6.033182</td>\n",
       "      <td>2.357013</td>\n",
       "      <td>2.357254</td>\n",
       "      <td>2.360502</td>\n",
       "      <td>2.360279</td>\n",
       "      <td>2.361285</td>\n",
       "      <td>1.686636</td>\n",
       "      <td>2.356927</td>\n",
       "    </tr>\n",
       "    <tr>\n",
       "      <th>min</th>\n",
       "      <td>1990.000000</td>\n",
       "      <td>-18.195000</td>\n",
       "      <td>-18.195000</td>\n",
       "      <td>-18.195000</td>\n",
       "      <td>-18.195000</td>\n",
       "      <td>-18.195000</td>\n",
       "      <td>0.087465</td>\n",
       "      <td>-18.195000</td>\n",
       "    </tr>\n",
       "    <tr>\n",
       "      <th>25%</th>\n",
       "      <td>1995.000000</td>\n",
       "      <td>-1.154000</td>\n",
       "      <td>-1.154000</td>\n",
       "      <td>-1.158000</td>\n",
       "      <td>-1.158000</td>\n",
       "      <td>-1.166000</td>\n",
       "      <td>0.332022</td>\n",
       "      <td>-1.154000</td>\n",
       "    </tr>\n",
       "    <tr>\n",
       "      <th>50%</th>\n",
       "      <td>2000.000000</td>\n",
       "      <td>0.241000</td>\n",
       "      <td>0.241000</td>\n",
       "      <td>0.241000</td>\n",
       "      <td>0.238000</td>\n",
       "      <td>0.234000</td>\n",
       "      <td>1.002680</td>\n",
       "      <td>0.241000</td>\n",
       "    </tr>\n",
       "    <tr>\n",
       "      <th>75%</th>\n",
       "      <td>2005.000000</td>\n",
       "      <td>1.405000</td>\n",
       "      <td>1.409000</td>\n",
       "      <td>1.409000</td>\n",
       "      <td>1.409000</td>\n",
       "      <td>1.405000</td>\n",
       "      <td>2.053727</td>\n",
       "      <td>1.405000</td>\n",
       "    </tr>\n",
       "    <tr>\n",
       "      <th>max</th>\n",
       "      <td>2010.000000</td>\n",
       "      <td>12.026000</td>\n",
       "      <td>12.026000</td>\n",
       "      <td>12.026000</td>\n",
       "      <td>12.026000</td>\n",
       "      <td>12.026000</td>\n",
       "      <td>9.328214</td>\n",
       "      <td>12.026000</td>\n",
       "    </tr>\n",
       "  </tbody>\n",
       "</table>\n",
       "</div>"
      ],
      "text/plain": [
       "              Year         Lag1         Lag2         Lag3         Lag4  \\\n",
       "count  1089.000000  1089.000000  1089.000000  1089.000000  1089.000000   \n",
       "mean   2000.048669     0.150585     0.151079     0.147205     0.145818   \n",
       "std       6.033182     2.357013     2.357254     2.360502     2.360279   \n",
       "min    1990.000000   -18.195000   -18.195000   -18.195000   -18.195000   \n",
       "25%    1995.000000    -1.154000    -1.154000    -1.158000    -1.158000   \n",
       "50%    2000.000000     0.241000     0.241000     0.241000     0.238000   \n",
       "75%    2005.000000     1.405000     1.409000     1.409000     1.409000   \n",
       "max    2010.000000    12.026000    12.026000    12.026000    12.026000   \n",
       "\n",
       "              Lag5       Volume        Today  \n",
       "count  1089.000000  1089.000000  1089.000000  \n",
       "mean      0.139893     1.574618     0.149899  \n",
       "std       2.361285     1.686636     2.356927  \n",
       "min     -18.195000     0.087465   -18.195000  \n",
       "25%      -1.166000     0.332022    -1.154000  \n",
       "50%       0.234000     1.002680     0.241000  \n",
       "75%       1.405000     2.053727     1.405000  \n",
       "max      12.026000     9.328214    12.026000  "
      ]
     },
     "execution_count": 307,
     "metadata": {},
     "output_type": "execute_result"
    }
   ],
   "source": [
    "df.describe()"
   ]
  },
  {
   "cell_type": "code",
   "execution_count": 296,
   "metadata": {},
   "outputs": [
    {
     "data": {
      "text/plain": [
       "(array([0, 1, 2, 3, 4, 5, 6]), <a list of 7 Text xticklabel objects>)"
      ]
     },
     "execution_count": 296,
     "metadata": {},
     "output_type": "execute_result"
    },
    {
     "data": {
      "image/png": "[encoded data removed]",
      "text/plain": [
       "<Figure size 720x432 with 1 Axes>"
      ]
     },
     "metadata": {
      "needs_background": "light"
     },
     "output_type": "display_data"
    }
   ],
   "source": [
    "plt.figure(figsize=(10, 6))\n",
    "sb.boxplot(data=df.iloc[:,1:])\n",
    "plt.xticks(rotation=90)"
   ]
  },
  {
   "cell_type": "markdown",
   "metadata": {},
   "source": [
    "Podemos notar que los lags se mantiene en la misma media, además se presentan algunos outlayers. Los rangos intercuartiles parecen\n",
    "parejos lo que indican que los datose podrían distribuir normalmente. "
   ]
  },
  {
   "cell_type": "code",
   "execution_count": 298,
   "metadata": {},
   "outputs": [
    {
     "data": {
      "image/png": "[encoded data removed]",
      "text/plain": [
       "<Figure size 720x360 with 2 Axes>"
      ]
     },
     "metadata": {
      "needs_background": "light"
     },
     "output_type": "display_data"
    }
   ],
   "source": [
    "f = plt.figure(figsize=(10,5))\n",
    "plt.matshow(df.corr(), fignum=f.number)\n",
    "plt.yticks(range(df.shape[1]), df.columns, fontsize=7)\n",
    "plt.xticks(range(df.shape[1]), df.columns, fontsize=8)\n",
    "cb = plt.colorbar()\n",
    "cb.ax.tick_params(labelsize=8)"
   ]
  },
  {
   "cell_type": "markdown",
   "metadata": {},
   "source": [
    "Se puede notar una correlacion bastante alta entre el año y el volumen. "
   ]
  },
  {
   "cell_type": "code",
   "execution_count": 299,
   "metadata": {
    "scrolled": true
   },
   "outputs": [
    {
     "data": {
      "text/plain": [
       "<matplotlib.axes._subplots.AxesSubplot at 0x21b28c7aeb8>"
      ]
     },
     "execution_count": 299,
     "metadata": {},
     "output_type": "execute_result"
    },
    {
     "data": {
      "image/png": "[encoded data removed]",
      "text/plain": [
       "<Figure size 432x288 with 1 Axes>"
      ]
     },
     "metadata": {
      "needs_background": "light"
     },
     "output_type": "display_data"
    }
   ],
   "source": [
    "sb.lineplot(x=\"Year\", y=\"Volume\",data=df)"
   ]
  },
  {
   "cell_type": "markdown",
   "metadata": {},
   "source": [
    "Esa alta correlacion la podemos notar porque a medida que aumenta el año aumenta el volumen de acciones negociadas. A continuación se hace una prueba para ver que features del cojunto de datos son los que mas afectan o mueven la variable respuesta. "
   ]
  },
  {
   "cell_type": "markdown",
   "metadata": {},
   "source": [
    "<Font color = 'blue'> B. Use the full data set to perform a logistic regression with\n",
    "Direction as the response and the five lag variables plus Volume\n",
    "as predictors. Use the summary function to print the results. Do\n",
    "any of the predictors appear to be statistically significant? If so,\n",
    "which ones?<Font>"
   ]
  },
  {
   "cell_type": "code",
   "execution_count": 300,
   "metadata": {},
   "outputs": [
    {
     "data": {
      "text/plain": [
       "{'Lag1': 0.099093927223568,\n",
       " 'Lag2': 0.016421989799936025,\n",
       " 'Lag3': 0.4500368828059069,\n",
       " 'Lag4': 0.4981364874454157,\n",
       " 'Lag5': 0.5492303253689037,\n",
       " 'Volume': 0.5530420565252107,\n",
       " 'Today': 1.118596048944062e-174}"
      ]
     },
     "execution_count": 300,
     "metadata": {},
     "output_type": "execute_result"
    }
   ],
   "source": [
    "#Partimos el conjunto de datos entre X (predictoras) y Y(variable respuesta) y obtenemos \n",
    "#los valores P, con respecto a cada variable\n",
    "\n",
    "X = df.iloc[:,1:len(df.columns)- 1]\n",
    "Y = df.iloc[:,-1]\n",
    "Bests = SelectKBest(score_func = f_classif , k=len(X.columns)).fit(X, Y)\n",
    "Best = dict(zip(X.columns, Bests.pvalues_))\n",
    "Best"
   ]
  },
  {
   "cell_type": "markdown",
   "metadata": {},
   "source": [
    "Podemos observar que el menor valor p está asociado a la variable Today, Al parecer la variable todaday parece bastante significativa para predecir la variable respuesta. El valor-p de las variables Lag1 y Lag2 es bajo, pero no lo suficiente para decir que es muy significativa."
   ]
  },
  {
   "cell_type": "markdown",
   "metadata": {},
   "source": [
    "<Font color = 'blue'> C. Compute the confusion matrix and overall fraction of correct\n",
    "predictions. Explain what the confusion matrix is telling you\n",
    "about the types of mistakes made by logistic regression.<Font>"
   ]
  },
  {
   "cell_type": "code",
   "execution_count": 301,
   "metadata": {},
   "outputs": [
    {
     "name": "stdout",
     "output_type": "stream",
     "text": [
      "Matriz de confusion \n",
      "\n",
      "[[481   3]\n",
      " [  0 605]]\n"
     ]
    }
   ],
   "source": [
    "#Implementamos una regresion logistica sin particionar los datos y entrenamos sobre todo el conjunto de datos.\n",
    "\n",
    "X = df.iloc[:,1:len(df.columns)-1]\n",
    "Y = df.iloc[:,-1]\n",
    "clf = LogisticRegression().fit(X,Y)\n",
    "y_pred = clf.predict(X)\n",
    "\n",
    "print(\"Matriz de confusion \\n\")\n",
    "print(confusion_matrix(Y, y_pred))"
   ]
  },
  {
   "cell_type": "markdown",
   "metadata": {},
   "source": [
    "Al entrenar y hacer la predicción sobre todo el conjunto de datos obtenemos que la regresión fue capaz de clasificar todos los down como down pero falló al clasificar 3 que eran UP, y los clasificó como Down."
   ]
  },
  {
   "cell_type": "markdown",
   "metadata": {},
   "source": [
    "<Font color = 'blue'> D. Now fit the logistic regression model using a training data period\n",
    "from 1990 to 2008, with Lag2 as the only predictor. Compute the\n",
    "confusion matrix and the overall fraction of correct predictions\n",
    "for the held out data (that is, the data from 2009 and 2010).<Font>"
   ]
  },
  {
   "cell_type": "markdown",
   "metadata": {},
   "source": [
    "Ahora vamos a entrenar el modelo solo con los datos correspondientes entre los años 1990 a 2008 solo con la variable lag2 como el unico predictor. Y se validará el modelo con los datos del 2009 y 2010"
   ]
  },
  {
   "cell_type": "code",
   "execution_count": 302,
   "metadata": {},
   "outputs": [],
   "source": [
    "X_Train = df[df['Year'] <= 2008]\n",
    "X_Train = X_Train.loc[:,\"Lag2\"]\n",
    "\n",
    "X_Test = df[df['Year'] > 2008]\n",
    "X_Test = X_Test.loc[:,'Lag2']\n",
    "\n",
    "Y_Train = df[df['Year'] <= 2008]\n",
    "Y_Train = Y_Train.loc[:,'Direction']\n",
    "\n",
    "Y_Test = df[df['Year'] > 2008]\n",
    "Y_Test = Y_Test.loc[:,'Direction']\n",
    "\n",
    "X_Train = np.array(X_Train).reshape(-1,1)\n",
    "X_Test = np.array(X_Test).reshape(-1,1)"
   ]
  },
  {
   "cell_type": "code",
   "execution_count": 305,
   "metadata": {},
   "outputs": [
    {
     "name": "stdout",
     "output_type": "stream",
     "text": [
      "Matriz de confusion \n",
      "\n",
      "[[ 9 34]\n",
      " [ 5 56]]\n"
     ]
    }
   ],
   "source": [
    "clf = LogisticRegression().fit(X_Train ,Y_Train)\n",
    "y_pred = clf.predict(X_Test)\n",
    "print(\"Matriz de confusion \\n\")\n",
    "print(confusion_matrix(Y_Test, y_pred))"
   ]
  },
  {
   "cell_type": "markdown",
   "metadata": {},
   "source": [
    "Al entrenar el modelo con una regresión logistica y solamente la variable predictiva Lag2, se obtiene que el modelo no es muy bueno prediciendo la variable respuesta, se obtiene que el modelo es muy bueno clasificando la clase down como down pero no es capaz de clasificar muy bien las up como up. "
   ]
  },
  {
   "cell_type": "markdown",
   "metadata": {},
   "source": [
    "<Font color = 'blue'> E. Repeat (d) using LDA.<Font>"
   ]
  },
  {
   "cell_type": "markdown",
   "metadata": {},
   "source": [
    "Implementando el modelo usando **LDA**"
   ]
  },
  {
   "cell_type": "code",
   "execution_count": 130,
   "metadata": {},
   "outputs": [
    {
     "name": "stdout",
     "output_type": "stream",
     "text": [
      "[[ 9 34]\n",
      " [ 5 56]]\n"
     ]
    }
   ],
   "source": [
    "clf = LinearDiscriminantAnalysis()\n",
    "clf.fit(X_Train,Y_Train)\n",
    "y_pred = clf.predict(X_Test)\n",
    "print(confusion_matrix(Y_Test, y_pred))"
   ]
  },
  {
   "cell_type": "markdown",
   "metadata": {},
   "source": [
    "Con el **LDA** obtenemos un resultado similar a la regresion logistica. "
   ]
  },
  {
   "cell_type": "markdown",
   "metadata": {},
   "source": [
    "<Font color = 'blue'> F. Repeat (d) using QDA.<Font>"
   ]
  },
  {
   "cell_type": "markdown",
   "metadata": {},
   "source": [
    "Implementando el modelo usando **QDA**"
   ]
  },
  {
   "cell_type": "code",
   "execution_count": 131,
   "metadata": {},
   "outputs": [
    {
     "name": "stdout",
     "output_type": "stream",
     "text": [
      "[[ 0 43]\n",
      " [ 0 61]]\n"
     ]
    }
   ],
   "source": [
    "clf = QuadraticDiscriminantAnalysis()\n",
    "clf.fit(X_Train,Y_Train)\n",
    "y_pred = clf.predict(X_Test)\n",
    "print(confusion_matrix(Y_Test, y_pred))"
   ]
  },
  {
   "cell_type": "markdown",
   "metadata": {},
   "source": [
    "Con el **QDA** obtenemos que el modelo es capaz de predecir con exactitud todos los Down como Down pero no es capaz de predecir ningun UP como Up."
   ]
  },
  {
   "cell_type": "markdown",
   "metadata": {},
   "source": [
    "<Font color = 'blue'> G. Repeat (d) using KNN with k= 1.<Font>"
   ]
  },
  {
   "cell_type": "markdown",
   "metadata": {},
   "source": [
    "#### Implementando el modelo usando KNN"
   ]
  },
  {
   "cell_type": "markdown",
   "metadata": {},
   "source": [
    "Para la implementacion de KNN se usará un solo vecino"
   ]
  },
  {
   "cell_type": "code",
   "execution_count": 133,
   "metadata": {},
   "outputs": [
    {
     "name": "stdout",
     "output_type": "stream",
     "text": [
      "[[21 22]\n",
      " [31 30]]\n"
     ]
    }
   ],
   "source": [
    "clf = neighbors.KNeighborsClassifier(n_neighbors = 1)\n",
    "clf.fit(X_Train, Y_Train)\n",
    "y_pred = clf.predict(X_Test)\n",
    "print(confusion_matrix(Y_Test, y_pred))"
   ]
  },
  {
   "cell_type": "markdown",
   "metadata": {},
   "source": [
    "Podemos observar que el algoritmo no es del todo bueno, al parecer con un solo vecino tiene una precisión de alrededor del 50% clasificando cada clase. "
   ]
  },
  {
   "cell_type": "markdown",
   "metadata": {},
   "source": [
    "<Font color = 'blue'> H. Which of these methods appears to provide the best results on\n",
    "this data?.<Font>"
   ]
  },
  {
   "cell_type": "markdown",
   "metadata": {},
   "source": [
    "Se podría decir entonces que con la variable lag2 los modelos son buenos prediciendo los down pero no los up, si se buscará una precision del 100% prediciendo solos los down, la mejor opcion sería el QDA. "
   ]
  },
  {
   "cell_type": "markdown",
   "metadata": {},
   "source": [
    "<Font color = 'blue'> I. Experiment with different combinations of predictors, including\n",
    "possible transformations and interactions, for each of the\n",
    "methods. Report the variables, method, and associated confusion\n",
    "matrix that appears to provide the best results on the held\n",
    "out data. Note that you should also experiment with values for\n",
    "K in the KNN classifier.<Font>"
   ]
  },
  {
   "cell_type": "markdown",
   "metadata": {},
   "source": [
    "Teniendo en cuenta que la variable respuesta se ve mejor descrita por 'Lag2','Lag3', 'Lag4, se tomaran estas variables para estimar la predicción de la direccion.\n"
   ]
  },
  {
   "cell_type": "code",
   "execution_count": 308,
   "metadata": {},
   "outputs": [],
   "source": [
    "X = df.iloc[:,1:len(df.columns)- 1]\n",
    "Y = df.iloc[:,-1]\n",
    "X_train, X_test, y_train, y_test = train_test_split(X, Y, test_size=0.8, random_state=0)"
   ]
  },
  {
   "cell_type": "code",
   "execution_count": 313,
   "metadata": {},
   "outputs": [
    {
     "name": "stdout",
     "output_type": "stream",
     "text": [
      "REGRESION LOGISTICA \n",
      "\n",
      "              precision    recall  f1-score   support\n",
      "\n",
      "        Down       0.98      0.95      0.96       375\n",
      "          Up       0.96      0.99      0.97       497\n",
      "\n",
      "    accuracy                           0.97       872\n",
      "   macro avg       0.97      0.97      0.97       872\n",
      "weighted avg       0.97      0.97      0.97       872\n",
      "\n"
     ]
    }
   ],
   "source": [
    "print(\"REGRESION LOGISTICA \\n\")\n",
    "clf = LogisticRegression()\n",
    "clf.fit(X_train, y_train)\n",
    "y_pred = clf.predict(X_test)\n",
    "print(classification_report(y_test,y_pred))"
   ]
  },
  {
   "cell_type": "code",
   "execution_count": 345,
   "metadata": {},
   "outputs": [
    {
     "name": "stdout",
     "output_type": "stream",
     "text": [
      "QDA \n",
      "\n",
      "              precision    recall  f1-score   support\n",
      "\n",
      "        Down       0.82      0.89      0.86       375\n",
      "          Up       0.91      0.86      0.88       497\n",
      "\n",
      "    accuracy                           0.87       872\n",
      "   macro avg       0.87      0.87      0.87       872\n",
      "weighted avg       0.87      0.87      0.87       872\n",
      "\n"
     ]
    }
   ],
   "source": [
    "print(\"QDA \\n\")\n",
    "clf = QuadraticDiscriminantAnalysis()\n",
    "clf.fit(X_train, y_train)\n",
    "y_pred = clf.predict(X_test)\n",
    "print(classification_report(y_test,y_pred))"
   ]
  },
  {
   "cell_type": "code",
   "execution_count": 344,
   "metadata": {},
   "outputs": [
    {
     "name": "stdout",
     "output_type": "stream",
     "text": [
      "LDA \n",
      "\n",
      "              precision    recall  f1-score   support\n",
      "\n",
      "        Down       0.87      0.90      0.89       375\n",
      "          Up       0.93      0.90      0.91       497\n",
      "\n",
      "    accuracy                           0.90       872\n",
      "   macro avg       0.90      0.90      0.90       872\n",
      "weighted avg       0.90      0.90      0.90       872\n",
      "\n"
     ]
    }
   ],
   "source": [
    "print(\"LDA \\n\")\n",
    "clf = LinearDiscriminantAnalysis()\n",
    "clf.fit(X_train, y_train)\n",
    "y_pred = clf.predict(X_test)\n",
    "print(classification_report(y_test,y_pred))"
   ]
  },
  {
   "cell_type": "code",
   "execution_count": 343,
   "metadata": {},
   "outputs": [
    {
     "name": "stdout",
     "output_type": "stream",
     "text": [
      "LDA \n",
      "\n",
      "              precision    recall  f1-score   support\n",
      "\n",
      "        Down       0.82      0.88      0.85       375\n",
      "          Up       0.90      0.86      0.88       497\n",
      "\n",
      "    accuracy                           0.87       872\n",
      "   macro avg       0.86      0.87      0.87       872\n",
      "weighted avg       0.87      0.87      0.87       872\n",
      "\n"
     ]
    }
   ],
   "source": [
    "print(\"LDA \\n\")\n",
    "clf = neighbors.KNeighborsClassifier(n_neighbors = 5)\n",
    "clf.fit(X_train, y_train)\n",
    "y_pred = clf.predict(X_test)\n",
    "print(classification_report(y_test,y_pred))"
   ]
  },
  {
   "cell_type": "markdown",
   "metadata": {},
   "source": [
    "Podemos concluir que para el modelo con 3 predictoras, el modelo de **Regresión Logistica** resulta ser el mejor. Con una precisión para clasificar los **Down** de: **0.96** y los **Up** de: **0.97**"
   ]
  },
  {
   "cell_type": "markdown",
   "metadata": {},
   "source": [
    "### Ejercicio 11"
   ]
  },
  {
   "cell_type": "markdown",
   "metadata": {},
   "source": [
    "<Font color = 'blue'>In this problem, you will develop a model to predict whether a given\n",
    "car gets high or low gas mileage based on the Auto data set.<Font>"
   ]
  },
  {
   "cell_type": "markdown",
   "metadata": {},
   "source": [
    "<Font color = 'blue'>A. Create a binary variable, mpg01, that contains a 1 if mpg contains\n",
    "a value above its median, and a 0 if mpg contains a value below\n",
    "its median. You can compute the median using the median()\n",
    "function. Note you may find it helpful to use the data.frame()\n",
    "function to create a single data set containing both mpg01 and\n",
    "the other Auto variables.<Font>\n"
   ]
  },
  {
   "cell_type": "code",
   "execution_count": 346,
   "metadata": {
    "scrolled": true
   },
   "outputs": [
    {
     "data": {
      "text/html": [
       "<div>\n",
       "<style scoped>\n",
       "    .dataframe tbody tr th:only-of-type {\n",
       "        vertical-align: middle;\n",
       "    }\n",
       "\n",
       "    .dataframe tbody tr th {\n",
       "        vertical-align: top;\n",
       "    }\n",
       "\n",
       "    .dataframe thead th {\n",
       "        text-align: right;\n",
       "    }\n",
       "</style>\n",
       "<table border=\"1\" class=\"dataframe\">\n",
       "  <thead>\n",
       "    <tr style=\"text-align: right;\">\n",
       "      <th></th>\n",
       "      <th>mpg</th>\n",
       "      <th>cylinders</th>\n",
       "      <th>displacement</th>\n",
       "      <th>horsepower</th>\n",
       "      <th>weight</th>\n",
       "      <th>acceleration</th>\n",
       "      <th>year</th>\n",
       "      <th>origin</th>\n",
       "      <th>name</th>\n",
       "      <th>mpg01</th>\n",
       "    </tr>\n",
       "  </thead>\n",
       "  <tbody>\n",
       "    <tr>\n",
       "      <th>0</th>\n",
       "      <td>18.0</td>\n",
       "      <td>8</td>\n",
       "      <td>307.0</td>\n",
       "      <td>130</td>\n",
       "      <td>3504</td>\n",
       "      <td>12.0</td>\n",
       "      <td>70</td>\n",
       "      <td>1</td>\n",
       "      <td>chevrolet chevelle malibu</td>\n",
       "      <td>0</td>\n",
       "    </tr>\n",
       "    <tr>\n",
       "      <th>1</th>\n",
       "      <td>15.0</td>\n",
       "      <td>8</td>\n",
       "      <td>350.0</td>\n",
       "      <td>165</td>\n",
       "      <td>3693</td>\n",
       "      <td>11.5</td>\n",
       "      <td>70</td>\n",
       "      <td>1</td>\n",
       "      <td>buick skylark 320</td>\n",
       "      <td>0</td>\n",
       "    </tr>\n",
       "    <tr>\n",
       "      <th>2</th>\n",
       "      <td>18.0</td>\n",
       "      <td>8</td>\n",
       "      <td>318.0</td>\n",
       "      <td>150</td>\n",
       "      <td>3436</td>\n",
       "      <td>11.0</td>\n",
       "      <td>70</td>\n",
       "      <td>1</td>\n",
       "      <td>plymouth satellite</td>\n",
       "      <td>0</td>\n",
       "    </tr>\n",
       "  </tbody>\n",
       "</table>\n",
       "</div>"
      ],
      "text/plain": [
       "    mpg  cylinders  displacement  horsepower  weight  acceleration  year  \\\n",
       "0  18.0          8         307.0         130    3504          12.0    70   \n",
       "1  15.0          8         350.0         165    3693          11.5    70   \n",
       "2  18.0          8         318.0         150    3436          11.0    70   \n",
       "\n",
       "   origin                       name  mpg01  \n",
       "0       1  chevrolet chevelle malibu      0  \n",
       "1       1          buick skylark 320      0  \n",
       "2       1         plymouth satellite      0  "
      ]
     },
     "execution_count": 346,
     "metadata": {},
     "output_type": "execute_result"
    }
   ],
   "source": [
    "#Importando los datasets\n",
    "df = pd.read_csv(\"datasets\\Auto.csv\")\n",
    "\n",
    "#creando la variable binaria.\n",
    "media_mpg = df['mpg'].mean()\n",
    "df['mpg01'] = df['mpg'].apply(lambda x: 1 if x > media_mpg else 0)\n",
    "df.head(3)"
   ]
  },
  {
   "cell_type": "markdown",
   "metadata": {},
   "source": [
    "<Font color = 'blue'>b) Explore the data graphically in order to investigate the association\n",
    "between mpg01 and the other features. Which of the other\n",
    "features seem most likely to be useful in predicting mpg01? Scatterplots\n",
    "and boxplots may be useful tools to answer this question.\n",
    "Describe your findings.<Font>\n"
   ]
  },
  {
   "cell_type": "markdown",
   "metadata": {},
   "source": [
    "Viendo la relacion de las **variables** con respecto a **mpg01**"
   ]
  },
  {
   "cell_type": "code",
   "execution_count": 348,
   "metadata": {},
   "outputs": [
    {
     "data": {
      "text/plain": [
       "<matplotlib.axes._subplots.AxesSubplot at 0x21b3adbe400>"
      ]
     },
     "execution_count": 348,
     "metadata": {},
     "output_type": "execute_result"
    },
    {
     "data": {
      "image/png": "[encoded data removed]",
      "text/plain": [
       "<Figure size 2160x595.44 with 6 Axes>"
      ]
     },
     "metadata": {},
     "output_type": "display_data"
    }
   ],
   "source": [
    "fig, axs = plt.subplots(1,6)\n",
    "sb.set(rc={'figure.figsize':(20,10)})\n",
    "sb.set(rc={'figure.figsize':(30,8.27)})\n",
    "sb.boxplot(x = df['mpg01'], y=df['cylinders'],\n",
    "                    data=df, ax=axs[0])\n",
    "sb.boxplot(x = df['mpg01'], y=df['displacement'],\n",
    "                    data=df, ax=axs[1])\n",
    "sb.boxplot(x = df['mpg01'], y=df['horsepower'],\n",
    "                    data=df,ax=axs[2])\n",
    "sb.boxplot(x = df['mpg01'], y=df['weight'],\n",
    "                    data=df, ax=axs[3])\n",
    "sb.boxplot(x = df['mpg01'], y=df['acceleration'],\n",
    "                    data=df, ax=axs[4])\n",
    "sb.boxplot(x = df['mpg01'], y=df['year'],\n",
    "                    data=df, ax=axs[5])"
   ]
  },
  {
   "cell_type": "markdown",
   "metadata": {},
   "source": [
    "De los boxplot podemos notar:\n",
    "* Para la variable cylinders, displacements, horsepower, weight y acceleration. los valores de mpg01 de 1 representan valores mas bajos de las variables, mientras que entre mayor es el año, se podría decir que mas tiende a 1 el mpg01. \n",
    "\n",
    "* Las variables están en diferentes escalas.\n",
    "\n",
    "* Se puede ver una relación muy lineal entre las variables predictoras y el mpg01\n"
   ]
  },
  {
   "cell_type": "markdown",
   "metadata": {},
   "source": [
    "<Font color = 'blue'>(c) Split the data into a training set and a test set.<Font>\n"
   ]
  },
  {
   "cell_type": "markdown",
   "metadata": {},
   "source": [
    "**Escalando los datos y particionandolos**"
   ]
  },
  {
   "cell_type": "code",
   "execution_count": 350,
   "metadata": {},
   "outputs": [],
   "source": [
    "#Se eliminan la variable name, ya que no nos interesa para el estudio. \n",
    "X = df.loc[:,['cylinders','displacement','horsepower','weight','acceleration','year']]\n",
    "scaler = MinMaxScaler()\n",
    "X = pd.DataFrame(scaler.fit_transform(X), columns = X.columns)\n",
    "X.head(4)\n",
    "Y = df.loc[:,\"mpg01\"]"
   ]
  },
  {
   "cell_type": "markdown",
   "metadata": {},
   "source": [
    "Obtenemos el valor-p de clasificación, para ver que variables son las que mas mueven la variable respuesta."
   ]
  },
  {
   "cell_type": "code",
   "execution_count": 351,
   "metadata": {},
   "outputs": [
    {
     "data": {
      "text/plain": [
       "{'cylinders': 1.902355955966883e-69,\n",
       " 'displacement': 6.040716878277069e-69,\n",
       " 'horsepower': 5.526578203881959e-49,\n",
       " 'weight': 5.984542333828794e-71,\n",
       " 'acceleration': 2.741501294022166e-11,\n",
       " 'year': 1.122664931370214e-20}"
      ]
     },
     "execution_count": 351,
     "metadata": {},
     "output_type": "execute_result"
    }
   ],
   "source": [
    "Bests = SelectKBest(score_func = f_classif , k=len(X.columns)).fit(X, Y)\n",
    "Best = dict(zip(X.columns, Bests.pvalues_))\n",
    "Best"
   ]
  },
  {
   "cell_type": "markdown",
   "metadata": {},
   "source": [
    "Podemos observar que todas las variables son buenas prediciendo el target, pero con diferencia cylinders, displacements, horsepower y weight son las variables que mejor explican el target"
   ]
  },
  {
   "cell_type": "code",
   "execution_count": 352,
   "metadata": {},
   "outputs": [],
   "source": [
    "#Diviendo el conjunto de datos en entrenamiento y validacion\n",
    "X = X.loc[:,['cylinders', 'displacement', 'horsepower', 'weight']]\n",
    "X_train, X_test, y_train, y_test = train_test_split(X, Y, test_size=0.8, random_state=0)"
   ]
  },
  {
   "cell_type": "markdown",
   "metadata": {},
   "source": [
    "<Font color = 'blue'>(d) Perform LDA on the training data in order to predict mpg01\n",
    "using the variables that seemed most associated with mpg01 in\n",
    "(b). What is the test error of the model obtained?<Font>\n"
   ]
  },
  {
   "cell_type": "markdown",
   "metadata": {},
   "source": [
    "#### Implementado el LDA"
   ]
  },
  {
   "cell_type": "code",
   "execution_count": 358,
   "metadata": {},
   "outputs": [
    {
     "name": "stdout",
     "output_type": "stream",
     "text": [
      "MSE 0.14\n"
     ]
    }
   ],
   "source": [
    "clf = LinearDiscriminantAnalysis()\n",
    "clf.fit(X_train,y_train)\n",
    "y_pred = clf.predict(X_test)\n",
    "print(\"MSE %0.2f\" % mean_squared_error(y_test, y_pred))"
   ]
  },
  {
   "cell_type": "markdown",
   "metadata": {},
   "source": [
    "<Font color = 'blue'>(d) Perform QDA on the training data in order to predict mpg01\n",
    "using the variables that seemed most associated with mpg01 in\n",
    "(b). What is the test error of the model obtained?<Font>"
   ]
  },
  {
   "cell_type": "markdown",
   "metadata": {},
   "source": [
    "#### Implementando el QDA"
   ]
  },
  {
   "cell_type": "code",
   "execution_count": 363,
   "metadata": {},
   "outputs": [
    {
     "name": "stdout",
     "output_type": "stream",
     "text": [
      "TEST MSE 0.0943\n"
     ]
    }
   ],
   "source": [
    "clf = QuadraticDiscriminantAnalysis()\n",
    "clf.fit(X_train,y_train)\n",
    "y_pred = clf.predict(X_test)\n",
    "print(\"TEST MSE %0.4f\" % mean_squared_error(y_test, y_pred))"
   ]
  },
  {
   "cell_type": "markdown",
   "metadata": {},
   "source": [
    "<Font color = 'blue'>(d) Perform Logistic Regression on the training data in order to predict mpg01\n",
    "using the variables that seemed most associated with mpg01 in\n",
    "(b). What is the test error of the model obtained?<Font>"
   ]
  },
  {
   "cell_type": "markdown",
   "metadata": {},
   "source": [
    "#### Implementando la regresion Logistica"
   ]
  },
  {
   "cell_type": "code",
   "execution_count": 364,
   "metadata": {},
   "outputs": [
    {
     "name": "stdout",
     "output_type": "stream",
     "text": [
      "TEST MSE 0.1164\n"
     ]
    }
   ],
   "source": [
    "clf = LogisticRegression()\n",
    "clf.fit(X_train,y_train)\n",
    "y_pred = clf.predict(X_test)\n",
    "print(\"TEST MSE %0.4f\" % mean_squared_error(y_test, y_pred))"
   ]
  },
  {
   "cell_type": "markdown",
   "metadata": {},
   "source": [
    "<Font color = 'blue'>(g) Perform KNN on the training data, with several values of K, in\n",
    "order to predict mpg01. Use only the variables that seemed most\n",
    "associated with mpg01 in (b). What test errors do you obtain?\n",
    "Which value of K seems to perform the best on this data set?<Font>"
   ]
  },
  {
   "cell_type": "markdown",
   "metadata": {},
   "source": [
    "#### Implementando KNN"
   ]
  },
  {
   "cell_type": "code",
   "execution_count": 381,
   "metadata": {},
   "outputs": [
    {
     "name": "stdout",
     "output_type": "stream",
     "text": [
      "TEST MSE 0.1164\n",
      "El mejor valor probado para K fue: 2 Neighbors\n"
     ]
    }
   ],
   "source": [
    "clf = neighbors.KNeighborsClassifier(n_neighbors = 2)\n",
    "clf.fit(X_train,y_train)\n",
    "y_pred = clf.predict(X_test)\n",
    "print(\"TEST MSE %0.4f\" % mean_squared_error(y_test, y_pred))\n",
    "print(\"El mejor valor probado para K fue: 2 Neighbors\")"
   ]
  },
  {
   "cell_type": "markdown",
   "metadata": {},
   "source": [
    "### Ejercicio 12"
   ]
  },
  {
   "cell_type": "markdown",
   "metadata": {},
   "source": [
    "<Font color = 'blue'><Font>\n",
    "(a) Write a function, Power(), that prints out the result of raising 2\n",
    "to the 3rd power. In other words, your function should compute\n",
    "23 and print out the results.\n",
    "Hint: Recall that x^a raises x to the power a. Use the print()\n",
    "function to output the result."
   ]
  },
  {
   "cell_type": "code",
   "execution_count": 385,
   "metadata": {},
   "outputs": [
    {
     "data": {
      "text/plain": [
       "8"
      ]
     },
     "execution_count": 385,
     "metadata": {},
     "output_type": "execute_result"
    }
   ],
   "source": [
    "def Power():\n",
    "    return 2 ** 3\n",
    "\n",
    "Power()"
   ]
  },
  {
   "cell_type": "markdown",
   "metadata": {},
   "source": [
    "<Font color = 'blue'>B. Create a new function, Power2(), that allows you to pass any\n",
    "two numbers, x and a, and prints out the value of x^a. You can\n",
    "do this by beginning your function with the line\n",
    "    * Power2 =function (x,a)\n",
    "    \n",
    "You should be able to call your function by entering, for instance,\n",
    "    * Power2 (3,8)\n",
    "on the command line. \n",
    "    \n",
    "This should output the value of 38, namely,\n",
    "6, 561.<Font>"
   ]
  },
  {
   "cell_type": "code",
   "execution_count": 386,
   "metadata": {},
   "outputs": [
    {
     "data": {
      "text/plain": [
       "6561"
      ]
     },
     "execution_count": 386,
     "metadata": {},
     "output_type": "execute_result"
    }
   ],
   "source": [
    "def Power2(a, b):\n",
    "    return a ** b\n",
    "\n",
    "Power2(3,8)"
   ]
  },
  {
   "cell_type": "markdown",
   "metadata": {},
   "source": [
    "<Font color = 'blue'>C.) Using the Power2() function that you just wrote, compute 103,\n",
    "817, and 1313.<Font>"
   ]
  },
  {
   "cell_type": "code",
   "execution_count": 389,
   "metadata": {},
   "outputs": [
    {
     "name": "stdout",
     "output_type": "stream",
     "text": [
      "1000\n",
      "2251799813685248\n",
      "2248091\n"
     ]
    }
   ],
   "source": [
    "print(Power2(10,3))\n",
    "print(Power2(8,17))\n",
    "print(Power2(131,3))"
   ]
  },
  {
   "cell_type": "markdown",
   "metadata": {},
   "source": [
    "<Font color = 'blue'>(d) Now create a new function, Power3(), that actually returns the\n",
    "result x^a as an R object, rather than simply printing it to the\n",
    "screen. That is, if you store the value x^a in an object called\n",
    "result within your function, then you can simply return() this\n",
    "return()\n",
    "result, using the following line:\n",
    "4.7 Exercises 173\n",
    "return (result )\n",
    "The line above should be the last line in your function, before\n",
    "the } symbol.<Font>"
   ]
  },
  {
   "cell_type": "code",
   "execution_count": 391,
   "metadata": {},
   "outputs": [
    {
     "data": {
      "text/plain": [
       "[<matplotlib.lines.Line2D at 0x21b2ce1c550>]"
      ]
     },
     "execution_count": 391,
     "metadata": {},
     "output_type": "execute_result"
    },
    {
     "data": {
      "image/png": "[encoded data removed]",
      "text/plain": [
       "<Figure size 2160x595.44 with 1 Axes>"
      ]
     },
     "metadata": {},
     "output_type": "display_data"
    }
   ],
   "source": [
    "def Power3(a, b):\n",
    "    result = a ** b\n",
    "    return result\n",
    "\n",
    "x = [1,2,3,4,5,6,7,8,9,10] \n",
    "y = [Power3(i,2) for i in [1,2,3,4,5,6,7,8,9,10]]\n",
    "plt.plot(x,y)"
   ]
  },
  {
   "cell_type": "markdown",
   "metadata": {},
   "source": [
    "<Font color = 'blue'>e.) Now using the Power3() function, create a plot of f(x) = x2.\n",
    "The x-axis should display a range of integers from 1 to 10, and\n",
    "the y-axis should display x2. Label the axes appropriately, and\n",
    "use an appropriate title for the figure. Consider displaying either\n",
    "the x-axis, the y-axis, or both on the log-scale. You can do this\n",
    "by using log=‘‘x’’, log=‘‘y’’, or log=‘‘xy’’ as arguments to\n",
    "the plot() function.<Font>"
   ]
  },
  {
   "cell_type": "code",
   "execution_count": 393,
   "metadata": {},
   "outputs": [
    {
     "data": {
      "image/png": "[encoded data removed]",
      "text/plain": [
       "<Figure size 2160x595.44 with 1 Axes>"
      ]
     },
     "metadata": {},
     "output_type": "display_data"
    }
   ],
   "source": [
    "x = [1,2,3,4,5,6,7,8,9,10] \n",
    "y = [Power3(i,2) for i in [1,2,3,4,5,6,7,8,9,10]]\n",
    "plt.plot(x,y)\n",
    "plt.yscale(\"log\")"
   ]
  },
  {
   "cell_type": "markdown",
   "metadata": {},
   "source": [
    "<Font color = 'blue'>(f) Create a function, PlotPower(), that allows you to create a plot\n",
    "of x against x^a for a fixed a and for a range of values of x. For instance, if you call PlotPower (1:10 ,3) then a plot should be created with an x-axis taking on values 1, 2, . . . , 10, and a y-axis taking on values 13, 23, . . . , 103..<Font>"
   ]
  },
  {
   "cell_type": "code",
   "execution_count": 394,
   "metadata": {},
   "outputs": [
    {
     "data": {
      "text/plain": [
       "[<matplotlib.lines.Line2D at 0x21b2cec3c88>]"
      ]
     },
     "execution_count": 394,
     "metadata": {},
     "output_type": "execute_result"
    },
    {
     "data": {
      "image/png": "[encoded data removed]",
      "text/plain": [
       "<Figure size 2160x595.44 with 1 Axes>"
      ]
     },
     "metadata": {},
     "output_type": "display_data"
    }
   ],
   "source": [
    "def PlotPower (start, stop, b):\n",
    "    x = [i for i in range(start,stop+1)]\n",
    "    y = [i ** 3 for i in x]\n",
    "    return plt.plot(x,y)\n",
    "\n",
    "PlotPower(1,10,3)"
   ]
  },
  {
   "cell_type": "markdown",
   "metadata": {},
   "source": [
    "### Ejercicio 13 "
   ]
  },
  {
   "cell_type": "markdown",
   "metadata": {},
   "source": [
    "<Font color = 'blue'>Using the Boston data set, fit classification models in order to predict\n",
    "whether a given suburb has a crime rate above or below the median.\n",
    "Explore logistic regression, LDA, and KNN models using various subsets\n",
    "of the predictors. Describe your findings. <Font>"
   ]
  },
  {
   "cell_type": "markdown",
   "metadata": {},
   "source": [
    "Importando el dataset"
   ]
  },
  {
   "cell_type": "code",
   "execution_count": 396,
   "metadata": {},
   "outputs": [
    {
     "data": {
      "text/html": [
       "<div>\n",
       "<style scoped>\n",
       "    .dataframe tbody tr th:only-of-type {\n",
       "        vertical-align: middle;\n",
       "    }\n",
       "\n",
       "    .dataframe tbody tr th {\n",
       "        vertical-align: top;\n",
       "    }\n",
       "\n",
       "    .dataframe thead th {\n",
       "        text-align: right;\n",
       "    }\n",
       "</style>\n",
       "<table border=\"1\" class=\"dataframe\">\n",
       "  <thead>\n",
       "    <tr style=\"text-align: right;\">\n",
       "      <th></th>\n",
       "      <th>crim</th>\n",
       "      <th>zn</th>\n",
       "      <th>indus</th>\n",
       "      <th>chas</th>\n",
       "      <th>nox</th>\n",
       "      <th>rm</th>\n",
       "      <th>age</th>\n",
       "      <th>dis</th>\n",
       "      <th>rad</th>\n",
       "      <th>tax</th>\n",
       "      <th>ptratio</th>\n",
       "      <th>black</th>\n",
       "      <th>lstat</th>\n",
       "      <th>medv</th>\n",
       "    </tr>\n",
       "  </thead>\n",
       "  <tbody>\n",
       "    <tr>\n",
       "      <th>0</th>\n",
       "      <td>0.00632</td>\n",
       "      <td>18.0</td>\n",
       "      <td>2.31</td>\n",
       "      <td>0</td>\n",
       "      <td>0.538</td>\n",
       "      <td>6.575</td>\n",
       "      <td>65.2</td>\n",
       "      <td>4.0900</td>\n",
       "      <td>1</td>\n",
       "      <td>296</td>\n",
       "      <td>15.3</td>\n",
       "      <td>396.90</td>\n",
       "      <td>4.98</td>\n",
       "      <td>24.0</td>\n",
       "    </tr>\n",
       "    <tr>\n",
       "      <th>1</th>\n",
       "      <td>0.02731</td>\n",
       "      <td>0.0</td>\n",
       "      <td>7.07</td>\n",
       "      <td>0</td>\n",
       "      <td>0.469</td>\n",
       "      <td>6.421</td>\n",
       "      <td>78.9</td>\n",
       "      <td>4.9671</td>\n",
       "      <td>2</td>\n",
       "      <td>242</td>\n",
       "      <td>17.8</td>\n",
       "      <td>396.90</td>\n",
       "      <td>9.14</td>\n",
       "      <td>21.6</td>\n",
       "    </tr>\n",
       "    <tr>\n",
       "      <th>2</th>\n",
       "      <td>0.02729</td>\n",
       "      <td>0.0</td>\n",
       "      <td>7.07</td>\n",
       "      <td>0</td>\n",
       "      <td>0.469</td>\n",
       "      <td>7.185</td>\n",
       "      <td>61.1</td>\n",
       "      <td>4.9671</td>\n",
       "      <td>2</td>\n",
       "      <td>242</td>\n",
       "      <td>17.8</td>\n",
       "      <td>392.83</td>\n",
       "      <td>4.03</td>\n",
       "      <td>34.7</td>\n",
       "    </tr>\n",
       "    <tr>\n",
       "      <th>3</th>\n",
       "      <td>0.03237</td>\n",
       "      <td>0.0</td>\n",
       "      <td>2.18</td>\n",
       "      <td>0</td>\n",
       "      <td>0.458</td>\n",
       "      <td>6.998</td>\n",
       "      <td>45.8</td>\n",
       "      <td>6.0622</td>\n",
       "      <td>3</td>\n",
       "      <td>222</td>\n",
       "      <td>18.7</td>\n",
       "      <td>394.63</td>\n",
       "      <td>2.94</td>\n",
       "      <td>33.4</td>\n",
       "    </tr>\n",
       "    <tr>\n",
       "      <th>4</th>\n",
       "      <td>0.06905</td>\n",
       "      <td>0.0</td>\n",
       "      <td>2.18</td>\n",
       "      <td>0</td>\n",
       "      <td>0.458</td>\n",
       "      <td>7.147</td>\n",
       "      <td>54.2</td>\n",
       "      <td>6.0622</td>\n",
       "      <td>3</td>\n",
       "      <td>222</td>\n",
       "      <td>18.7</td>\n",
       "      <td>396.90</td>\n",
       "      <td>5.33</td>\n",
       "      <td>36.2</td>\n",
       "    </tr>\n",
       "  </tbody>\n",
       "</table>\n",
       "</div>"
      ],
      "text/plain": [
       "      crim    zn  indus  chas    nox     rm   age     dis  rad  tax  ptratio  \\\n",
       "0  0.00632  18.0   2.31     0  0.538  6.575  65.2  4.0900    1  296     15.3   \n",
       "1  0.02731   0.0   7.07     0  0.469  6.421  78.9  4.9671    2  242     17.8   \n",
       "2  0.02729   0.0   7.07     0  0.469  7.185  61.1  4.9671    2  242     17.8   \n",
       "3  0.03237   0.0   2.18     0  0.458  6.998  45.8  6.0622    3  222     18.7   \n",
       "4  0.06905   0.0   2.18     0  0.458  7.147  54.2  6.0622    3  222     18.7   \n",
       "\n",
       "    black  lstat  medv  \n",
       "0  396.90   4.98  24.0  \n",
       "1  396.90   9.14  21.6  \n",
       "2  392.83   4.03  34.7  \n",
       "3  394.63   2.94  33.4  \n",
       "4  396.90   5.33  36.2  "
      ]
     },
     "execution_count": 396,
     "metadata": {},
     "output_type": "execute_result"
    }
   ],
   "source": [
    "\n",
    "df = pd.read_csv(\"datasets\\Boston.csv\")\n",
    "df = df.iloc[:,1:]\n",
    "df.head(5)"
   ]
  },
  {
   "cell_type": "markdown",
   "metadata": {},
   "source": [
    "Volviendo la variable 1 o 0, dependiendo si la tasa de crimenes es mayor o menor que la media y graficando."
   ]
  },
  {
   "cell_type": "code",
   "execution_count": 397,
   "metadata": {},
   "outputs": [],
   "source": [
    "mean_crime = df[\"crim\"].mean()\n",
    "df['crim_rate'] = df['crim'].apply(lambda x: 1 if x > mean_crime else 0)\n",
    "#eliminando la variable crim, y graficando\n",
    "df = df.iloc[:,1:15]"
   ]
  },
  {
   "cell_type": "code",
   "execution_count": 398,
   "metadata": {},
   "outputs": [
    {
     "data": {
      "text/plain": [
       "<matplotlib.axes._subplots.AxesSubplot at 0x21b27046198>"
      ]
     },
     "execution_count": 398,
     "metadata": {},
     "output_type": "execute_result"
    },
    {
     "data": {
      "image/png": "[encoded data removed]",
      "text/plain": [
       "<Figure size 2160x595.44 with 14 Axes>"
      ]
     },
     "metadata": {},
     "output_type": "display_data"
    }
   ],
   "source": [
    "fig, axs = plt.subplots(2,7)\n",
    "sb.set(rc={'figure.figsize':(30,15)})\n",
    "sb.boxplot(x = df['crim_rate'], y=df['zn'],\n",
    "                    data=df, ax=axs[0,0])\n",
    "sb.boxplot(x = df['crim_rate'], y=df['indus'],\n",
    "                    data=df, ax=axs[0,1])\n",
    "sb.boxplot(x = df['crim_rate'], y=df['chas'],\n",
    "                    data=df,ax=axs[0,2])\n",
    "sb.boxplot(x = df['crim_rate'], y=df['nox'],\n",
    "                    data=df, ax=axs[0,3])\n",
    "sb.boxplot(x = df['crim_rate'], y=df['rm'],\n",
    "                    data=df, ax=axs[0,4])\n",
    "sb.boxplot(x = df['crim_rate'], y=df['age'],\n",
    "                    data=df, ax=axs[0,5])\n",
    "sb.boxplot(x = df['crim_rate'], y=df['dis'],\n",
    "                    data=df, ax=axs[1,0])\n",
    "sb.boxplot(x = df['crim_rate'], y=df['rm'],\n",
    "                    data=df, ax=axs[1,1])\n",
    "sb.boxplot(x = df['crim_rate'], y=df['rad'],\n",
    "                    data=df, ax=axs[1,2])\n",
    "sb.boxplot(x = df['crim_rate'], y=df['tax'],\n",
    "                    data=df, ax=axs[1,3])\n",
    "sb.boxplot(x = df['crim_rate'], y=df['ptratio'],\n",
    "                    data=df, ax=axs[1,4])\n",
    "sb.boxplot(x = df['crim_rate'], y=df['black'],\n",
    "                    data=df, ax=axs[1,5])\n",
    "sb.boxplot(x = df['crim_rate'], y=df['lstat'],\n",
    "                    data=df, ax=axs[0,6])\n",
    "sb.boxplot(x = df['crim_rate'], y=df['medv'],\n",
    "                    data=df, ax=axs[1,6])"
   ]
  },
  {
   "cell_type": "markdown",
   "metadata": {},
   "source": [
    "De los boxplot podemos notar que:\n",
    "* hay ciertas variables que parecen incidir en la respuesta pues se ven algo diferenciadas a nivel de escalas, estas variables son: nox, age, lstat, dis, mendv\n",
    "* Los datos están en diversas escalas.\n",
    "* Hay datos que tienen mucha desviacion estandar. \n",
    "* Muchos de esos datos parecen no seguir una distribución normal. "
   ]
  },
  {
   "cell_type": "markdown",
   "metadata": {},
   "source": [
    "Escalamos las variables para evitar problemas de ajuste por escala"
   ]
  },
  {
   "cell_type": "code",
   "execution_count": 399,
   "metadata": {},
   "outputs": [],
   "source": [
    "X = df.iloc[:,1:len(df.columns)-1]\n",
    "scaler = MinMaxScaler()\n",
    "X = pd.DataFrame(scaler.fit_transform(X), columns = X.columns)\n",
    "X.head(4)\n",
    "Y = df.loc[:,\"crim_rate\"]"
   ]
  },
  {
   "cell_type": "markdown",
   "metadata": {},
   "source": [
    "Hacemos un analisis de las variables y su peso representativo para definir la variable respuesta. "
   ]
  },
  {
   "cell_type": "code",
   "execution_count": 400,
   "metadata": {},
   "outputs": [
    {
     "data": {
      "text/plain": [
       "{'indus': 3.245819136040563e-49,\n",
       " 'chas': 0.45599075855167737,\n",
       " 'nox': 3.9398798363572435e-53,\n",
       " 'rm': 6.522357369508661e-08,\n",
       " 'age': 9.10846288905772e-29,\n",
       " 'dis': 2.6965139208958024e-32,\n",
       " 'rad': 1.776005093336472e-272,\n",
       " 'tax': 2.3658279631928736e-168,\n",
       " 'ptratio': 1.4031521765486525e-27,\n",
       " 'black': 6.797209761909621e-27,\n",
       " 'lstat': 2.8701854886124156e-35,\n",
       " 'medv': 5.533673314316687e-21}"
      ]
     },
     "execution_count": 400,
     "metadata": {},
     "output_type": "execute_result"
    }
   ],
   "source": [
    "Bests = SelectKBest(score_func = f_classif , k=len(X.columns)).fit(X, Y)\n",
    "Best = dict(zip(X.columns, Bests.pvalues_))\n",
    "Best"
   ]
  },
  {
   "cell_type": "markdown",
   "metadata": {},
   "source": [
    "Teniendo en cuenta el valor P de las predictoras podemos decir que las mejores que mejor estiman la variable respuesta son: \n",
    "* indus, nox, rad, tax, lstat, dis"
   ]
  },
  {
   "cell_type": "markdown",
   "metadata": {},
   "source": [
    "Filtrando las variables que tenemos y particionando los datos."
   ]
  },
  {
   "cell_type": "code",
   "execution_count": 401,
   "metadata": {},
   "outputs": [],
   "source": [
    "X = X.loc[:,['indus', 'rad', 'tax', 'lstat', 'dis']]\n",
    "X_train, X_test, y_train, y_test = train_test_split(X, Y, test_size=0.8, random_state=0)"
   ]
  },
  {
   "cell_type": "markdown",
   "metadata": {},
   "source": [
    "**Regresión Logistica**"
   ]
  },
  {
   "cell_type": "code",
   "execution_count": 402,
   "metadata": {},
   "outputs": [
    {
     "name": "stdout",
     "output_type": "stream",
     "text": [
      "              precision    recall  f1-score   support\n",
      "\n",
      "           0       1.00      0.99      0.99       305\n",
      "           1       0.96      0.99      0.98       100\n",
      "\n",
      "    accuracy                           0.99       405\n",
      "   macro avg       0.98      0.99      0.98       405\n",
      "weighted avg       0.99      0.99      0.99       405\n",
      "\n"
     ]
    }
   ],
   "source": [
    "clf = LogisticRegression()\n",
    "clf.fit(X_train,y_train)\n",
    "y_pred = clf.predict(X_test)\n",
    "print(classification_report(y_test, y_pred))"
   ]
  },
  {
   "cell_type": "markdown",
   "metadata": {},
   "source": [
    "**LDA**"
   ]
  },
  {
   "cell_type": "code",
   "execution_count": 78,
   "metadata": {},
   "outputs": [
    {
     "name": "stdout",
     "output_type": "stream",
     "text": [
      "              precision    recall  f1-score   support\n",
      "\n",
      "           0       1.00      0.99      0.99       305\n",
      "           1       0.96      0.99      0.98       100\n",
      "\n",
      "   micro avg       0.99      0.99      0.99       405\n",
      "   macro avg       0.98      0.99      0.98       405\n",
      "weighted avg       0.99      0.99      0.99       405\n",
      "\n"
     ]
    }
   ],
   "source": [
    "clf = LinearDiscriminantAnalysis()\n",
    "clf.fit(X_train,y_train)\n",
    "y_pred = clf.predict(X_test)\n",
    "print(classification_report(y_test, y_pred))"
   ]
  },
  {
   "cell_type": "markdown",
   "metadata": {},
   "source": [
    "**KNN**"
   ]
  },
  {
   "cell_type": "code",
   "execution_count": 403,
   "metadata": {},
   "outputs": [
    {
     "name": "stdout",
     "output_type": "stream",
     "text": [
      "              precision    recall  f1-score   support\n",
      "\n",
      "           0       1.00      0.99      0.99       305\n",
      "           1       0.96      0.99      0.98       100\n",
      "\n",
      "    accuracy                           0.99       405\n",
      "   macro avg       0.98      0.99      0.98       405\n",
      "weighted avg       0.99      0.99      0.99       405\n",
      "\n"
     ]
    }
   ],
   "source": [
    "clf = neighbors.KNeighborsClassifier(n_neighbors = 3)\n",
    "clf.fit(X_train,y_train)\n",
    "y_pred = clf.predict(X_test)\n",
    "print(classification_report(y_test, y_pred))"
   ]
  },
  {
   "cell_type": "markdown",
   "metadata": {},
   "source": [
    "Para el modelo se tiene que:\n",
    "\n",
    "* Si nos fijamos en el F1-Score, podemos decir que los 3 algoritmos son capaces de clasificar muy bien cuando un suburbio superará cierta tasa (en este caso la media) de los crimenes.\n",
    "\n",
    "* los 3 algoritmos son capaces de predecir con una precisión del 99% cuando un barrio no superará esa tasa, pero tambien es capaz de predecir con un 98% de precisión cuando si lo hará\n"
   ]
  },
  {
   "cell_type": "markdown",
   "metadata": {},
   "source": [
    "## Punto 8.4 "
   ]
  },
  {
   "cell_type": "markdown",
   "metadata": {},
   "source": [
    "### Ejercicio 7 "
   ]
  },
  {
   "cell_type": "markdown",
   "metadata": {},
   "source": [
    "<Font color = 'blue'>In the lab, we applied random forests to the Boston data using mtry=6\n",
    "and using ntree=25 and ntree=500. Create a plot displaying the test\n",
    "error resulting from random forests on this data set for a more comprehensive\n",
    "range of values for mtry and ntree. You can model your\n",
    "plot after Figure 8.10. Describe the results obtained.<Font>"
   ]
  },
  {
   "cell_type": "markdown",
   "metadata": {},
   "source": [
    "Importamos la base de datos"
   ]
  },
  {
   "cell_type": "code",
   "execution_count": 407,
   "metadata": {},
   "outputs": [
    {
     "data": {
      "text/html": [
       "<div>\n",
       "<style scoped>\n",
       "    .dataframe tbody tr th:only-of-type {\n",
       "        vertical-align: middle;\n",
       "    }\n",
       "\n",
       "    .dataframe tbody tr th {\n",
       "        vertical-align: top;\n",
       "    }\n",
       "\n",
       "    .dataframe thead th {\n",
       "        text-align: right;\n",
       "    }\n",
       "</style>\n",
       "<table border=\"1\" class=\"dataframe\">\n",
       "  <thead>\n",
       "    <tr style=\"text-align: right;\">\n",
       "      <th></th>\n",
       "      <th>crim</th>\n",
       "      <th>zn</th>\n",
       "      <th>indus</th>\n",
       "      <th>chas</th>\n",
       "      <th>nox</th>\n",
       "      <th>rm</th>\n",
       "      <th>age</th>\n",
       "      <th>dis</th>\n",
       "      <th>rad</th>\n",
       "      <th>tax</th>\n",
       "      <th>ptratio</th>\n",
       "      <th>black</th>\n",
       "      <th>lstat</th>\n",
       "      <th>medv</th>\n",
       "    </tr>\n",
       "  </thead>\n",
       "  <tbody>\n",
       "    <tr>\n",
       "      <th>0</th>\n",
       "      <td>0.00632</td>\n",
       "      <td>18.0</td>\n",
       "      <td>2.31</td>\n",
       "      <td>0</td>\n",
       "      <td>0.538</td>\n",
       "      <td>6.575</td>\n",
       "      <td>65.2</td>\n",
       "      <td>4.0900</td>\n",
       "      <td>1</td>\n",
       "      <td>296</td>\n",
       "      <td>15.3</td>\n",
       "      <td>396.90</td>\n",
       "      <td>4.98</td>\n",
       "      <td>24.0</td>\n",
       "    </tr>\n",
       "    <tr>\n",
       "      <th>1</th>\n",
       "      <td>0.02731</td>\n",
       "      <td>0.0</td>\n",
       "      <td>7.07</td>\n",
       "      <td>0</td>\n",
       "      <td>0.469</td>\n",
       "      <td>6.421</td>\n",
       "      <td>78.9</td>\n",
       "      <td>4.9671</td>\n",
       "      <td>2</td>\n",
       "      <td>242</td>\n",
       "      <td>17.8</td>\n",
       "      <td>396.90</td>\n",
       "      <td>9.14</td>\n",
       "      <td>21.6</td>\n",
       "    </tr>\n",
       "    <tr>\n",
       "      <th>2</th>\n",
       "      <td>0.02729</td>\n",
       "      <td>0.0</td>\n",
       "      <td>7.07</td>\n",
       "      <td>0</td>\n",
       "      <td>0.469</td>\n",
       "      <td>7.185</td>\n",
       "      <td>61.1</td>\n",
       "      <td>4.9671</td>\n",
       "      <td>2</td>\n",
       "      <td>242</td>\n",
       "      <td>17.8</td>\n",
       "      <td>392.83</td>\n",
       "      <td>4.03</td>\n",
       "      <td>34.7</td>\n",
       "    </tr>\n",
       "    <tr>\n",
       "      <th>3</th>\n",
       "      <td>0.03237</td>\n",
       "      <td>0.0</td>\n",
       "      <td>2.18</td>\n",
       "      <td>0</td>\n",
       "      <td>0.458</td>\n",
       "      <td>6.998</td>\n",
       "      <td>45.8</td>\n",
       "      <td>6.0622</td>\n",
       "      <td>3</td>\n",
       "      <td>222</td>\n",
       "      <td>18.7</td>\n",
       "      <td>394.63</td>\n",
       "      <td>2.94</td>\n",
       "      <td>33.4</td>\n",
       "    </tr>\n",
       "    <tr>\n",
       "      <th>4</th>\n",
       "      <td>0.06905</td>\n",
       "      <td>0.0</td>\n",
       "      <td>2.18</td>\n",
       "      <td>0</td>\n",
       "      <td>0.458</td>\n",
       "      <td>7.147</td>\n",
       "      <td>54.2</td>\n",
       "      <td>6.0622</td>\n",
       "      <td>3</td>\n",
       "      <td>222</td>\n",
       "      <td>18.7</td>\n",
       "      <td>396.90</td>\n",
       "      <td>5.33</td>\n",
       "      <td>36.2</td>\n",
       "    </tr>\n",
       "  </tbody>\n",
       "</table>\n",
       "</div>"
      ],
      "text/plain": [
       "      crim    zn  indus  chas    nox     rm   age     dis  rad  tax  ptratio  \\\n",
       "0  0.00632  18.0   2.31     0  0.538  6.575  65.2  4.0900    1  296     15.3   \n",
       "1  0.02731   0.0   7.07     0  0.469  6.421  78.9  4.9671    2  242     17.8   \n",
       "2  0.02729   0.0   7.07     0  0.469  7.185  61.1  4.9671    2  242     17.8   \n",
       "3  0.03237   0.0   2.18     0  0.458  6.998  45.8  6.0622    3  222     18.7   \n",
       "4  0.06905   0.0   2.18     0  0.458  7.147  54.2  6.0622    3  222     18.7   \n",
       "\n",
       "    black  lstat  medv  \n",
       "0  396.90   4.98  24.0  \n",
       "1  396.90   9.14  21.6  \n",
       "2  392.83   4.03  34.7  \n",
       "3  394.63   2.94  33.4  \n",
       "4  396.90   5.33  36.2  "
      ]
     },
     "execution_count": 407,
     "metadata": {},
     "output_type": "execute_result"
    }
   ],
   "source": [
    "df = pd.read_csv(\"datasets\\Boston.csv\")\n",
    "df = df.iloc[:,1:]\n",
    "df.head(5)"
   ]
  },
  {
   "cell_type": "markdown",
   "metadata": {},
   "source": [
    "Preprocesamos los datos"
   ]
  },
  {
   "cell_type": "code",
   "execution_count": 408,
   "metadata": {},
   "outputs": [],
   "source": [
    "mean_crime = df[\"crim\"].mean()\n",
    "df['crim_rate'] = df['crim'].apply(lambda x: 1 if x > mean_crime else 0)\n",
    "#eliminando la variable crim, y graficando\n",
    "df = df.iloc[:,1:15]\n",
    "#Escalamos los datos \n",
    "X = df.iloc[:,1:len(df.columns)-1]\n",
    "scaler = MinMaxScaler()\n",
    "X = pd.DataFrame(scaler.fit_transform(X), columns = X.columns)\n",
    "X.head(4)\n",
    "Y = df.loc[:,\"crim_rate\"]\n",
    "X_train, X_test, y_train, y_test = train_test_split(X, Y, test_size=0.8, random_state=0)"
   ]
  },
  {
   "cell_type": "markdown",
   "metadata": {},
   "source": [
    "Obtenemos el error basado en las cantidad de arboles y la cantidad de features"
   ]
  },
  {
   "cell_type": "code",
   "execution_count": 419,
   "metadata": {},
   "outputs": [
    {
     "data": {
      "text/plain": [
       "<matplotlib.axes._subplots.AxesSubplot at 0x21b48a0ebe0>"
      ]
     },
     "execution_count": 419,
     "metadata": {},
     "output_type": "execute_result"
    },
    {
     "data": {
      "image/png": "[encoded data removed]",
      "text/plain": [
       "<Figure size 2160x1080 with 1 Axes>"
      ]
     },
     "metadata": {},
     "output_type": "display_data"
    }
   ],
   "source": [
    "#En python mtry es max_features y ntree es n_estimators\n",
    "n_estimators = 20\n",
    "\n",
    "forest = RandomForestClassifier(warm_start=True, oob_score=True, max_features = 12)\n",
    "errors = []\n",
    "\n",
    "for i in range(1, n_estimators + 1):\n",
    "    forest.set_params(n_estimators=i)\n",
    "    forest.fit(X, Y)\n",
    "    y_pred = forest.predict(X_test)\n",
    "    errors.append((i, mean_squared_error(y_test,y_pred)))\n",
    "    \n",
    "df_errors = pd.DataFrame(errors, columns = ['# TREES','TEST MSE'])\n",
    "sb.lineplot(x = '# TREES', y= 'TEST MSE', data =df_errors) \n",
    "\n",
    "forest = RandomForestClassifier(warm_start=True, oob_score=True, max_features = int(12/2))\n",
    "errors = []\n",
    "\n",
    "\n",
    "for i in range(1, n_estimators + 1):\n",
    "    forest.set_params(n_estimators=i)\n",
    "    forest.fit(X, Y)\n",
    "    y_pred = forest.predict(X_test)\n",
    "    errors.append((i, mean_squared_error(y_test,y_pred)))\n",
    "\n",
    "    \n",
    "df_errors = pd.DataFrame(errors, columns = ['# TREES','TEST MSE'])\n",
    "sb.lineplot(x = '# TREES', y= 'TEST MSE', data =df_errors)"
   ]
  },
  {
   "cell_type": "markdown",
   "metadata": {},
   "source": [
    "Basado en el grafico podemos observar que en 10 estimadores (arboles) los errores se estabilizan. "
   ]
  },
  {
   "cell_type": "markdown",
   "metadata": {},
   "source": [
    "### Ejercicio 8"
   ]
  },
  {
   "cell_type": "code",
   "execution_count": 183,
   "metadata": {},
   "outputs": [
    {
     "data": {
      "text/html": [
       "<div>\n",
       "<style scoped>\n",
       "    .dataframe tbody tr th:only-of-type {\n",
       "        vertical-align: middle;\n",
       "    }\n",
       "\n",
       "    .dataframe tbody tr th {\n",
       "        vertical-align: top;\n",
       "    }\n",
       "\n",
       "    .dataframe thead th {\n",
       "        text-align: right;\n",
       "    }\n",
       "</style>\n",
       "<table border=\"1\" class=\"dataframe\">\n",
       "  <thead>\n",
       "    <tr style=\"text-align: right;\">\n",
       "      <th></th>\n",
       "      <th>Sales</th>\n",
       "      <th>CompPrice</th>\n",
       "      <th>Income</th>\n",
       "      <th>Advertising</th>\n",
       "      <th>Population</th>\n",
       "      <th>Price</th>\n",
       "      <th>ShelveLoc</th>\n",
       "      <th>Age</th>\n",
       "      <th>Education</th>\n",
       "      <th>Urban</th>\n",
       "      <th>US</th>\n",
       "    </tr>\n",
       "  </thead>\n",
       "  <tbody>\n",
       "    <tr>\n",
       "      <th>0</th>\n",
       "      <td>9.50</td>\n",
       "      <td>138</td>\n",
       "      <td>73</td>\n",
       "      <td>11</td>\n",
       "      <td>276</td>\n",
       "      <td>120</td>\n",
       "      <td>Bad</td>\n",
       "      <td>42</td>\n",
       "      <td>17</td>\n",
       "      <td>Yes</td>\n",
       "      <td>Yes</td>\n",
       "    </tr>\n",
       "    <tr>\n",
       "      <th>1</th>\n",
       "      <td>11.22</td>\n",
       "      <td>111</td>\n",
       "      <td>48</td>\n",
       "      <td>16</td>\n",
       "      <td>260</td>\n",
       "      <td>83</td>\n",
       "      <td>Good</td>\n",
       "      <td>65</td>\n",
       "      <td>10</td>\n",
       "      <td>Yes</td>\n",
       "      <td>Yes</td>\n",
       "    </tr>\n",
       "  </tbody>\n",
       "</table>\n",
       "</div>"
      ],
      "text/plain": [
       "   Sales  CompPrice  Income  Advertising  Population  Price ShelveLoc  Age  \\\n",
       "0   9.50        138      73           11         276    120       Bad   42   \n",
       "1  11.22        111      48           16         260     83      Good   65   \n",
       "\n",
       "   Education Urban   US  \n",
       "0         17   Yes  Yes  \n",
       "1         10   Yes  Yes  "
      ]
     },
     "execution_count": 183,
     "metadata": {},
     "output_type": "execute_result"
    }
   ],
   "source": [
    "df = pd.read_csv(\"datasets\\Carseats.csv\")\n",
    "df = df.iloc[:,1:]\n",
    "df.head(2)"
   ]
  },
  {
   "cell_type": "code",
   "execution_count": 184,
   "metadata": {},
   "outputs": [
    {
     "data": {
      "text/html": [
       "<div>\n",
       "<style scoped>\n",
       "    .dataframe tbody tr th:only-of-type {\n",
       "        vertical-align: middle;\n",
       "    }\n",
       "\n",
       "    .dataframe tbody tr th {\n",
       "        vertical-align: top;\n",
       "    }\n",
       "\n",
       "    .dataframe thead th {\n",
       "        text-align: right;\n",
       "    }\n",
       "</style>\n",
       "<table border=\"1\" class=\"dataframe\">\n",
       "  <thead>\n",
       "    <tr style=\"text-align: right;\">\n",
       "      <th></th>\n",
       "      <th>Sales</th>\n",
       "      <th>CompPrice</th>\n",
       "      <th>Income</th>\n",
       "      <th>Advertising</th>\n",
       "      <th>Population</th>\n",
       "      <th>Price</th>\n",
       "      <th>ShelveLoc</th>\n",
       "      <th>Age</th>\n",
       "      <th>Education</th>\n",
       "      <th>Urban</th>\n",
       "      <th>US</th>\n",
       "    </tr>\n",
       "  </thead>\n",
       "  <tbody>\n",
       "    <tr>\n",
       "      <th>0</th>\n",
       "      <td>9.50</td>\n",
       "      <td>138</td>\n",
       "      <td>73</td>\n",
       "      <td>11</td>\n",
       "      <td>276</td>\n",
       "      <td>120</td>\n",
       "      <td>0</td>\n",
       "      <td>42</td>\n",
       "      <td>17</td>\n",
       "      <td>1</td>\n",
       "      <td>1</td>\n",
       "    </tr>\n",
       "    <tr>\n",
       "      <th>1</th>\n",
       "      <td>11.22</td>\n",
       "      <td>111</td>\n",
       "      <td>48</td>\n",
       "      <td>16</td>\n",
       "      <td>260</td>\n",
       "      <td>83</td>\n",
       "      <td>1</td>\n",
       "      <td>65</td>\n",
       "      <td>10</td>\n",
       "      <td>1</td>\n",
       "      <td>1</td>\n",
       "    </tr>\n",
       "    <tr>\n",
       "      <th>2</th>\n",
       "      <td>10.06</td>\n",
       "      <td>113</td>\n",
       "      <td>35</td>\n",
       "      <td>10</td>\n",
       "      <td>269</td>\n",
       "      <td>80</td>\n",
       "      <td>2</td>\n",
       "      <td>59</td>\n",
       "      <td>12</td>\n",
       "      <td>1</td>\n",
       "      <td>1</td>\n",
       "    </tr>\n",
       "  </tbody>\n",
       "</table>\n",
       "</div>"
      ],
      "text/plain": [
       "   Sales  CompPrice  Income  Advertising  Population  Price  ShelveLoc  Age  \\\n",
       "0   9.50        138      73           11         276    120          0   42   \n",
       "1  11.22        111      48           16         260     83          1   65   \n",
       "2  10.06        113      35           10         269     80          2   59   \n",
       "\n",
       "   Education  Urban  US  \n",
       "0         17      1   1  \n",
       "1         10      1   1  \n",
       "2         12      1   1  "
      ]
     },
     "execution_count": 184,
     "metadata": {},
     "output_type": "execute_result"
    }
   ],
   "source": [
    "#Codificando las variables categoricas\n",
    "labelencoder = LabelEncoder()\n",
    "df[\"ShelveLoc\"] = labelencoder.fit_transform(df['ShelveLoc'])\n",
    "df[\"Urban\"] = labelencoder.fit_transform(df['Urban'])\n",
    "df[\"US\"] = labelencoder.fit_transform(df['US'])\n",
    "df.head(3)"
   ]
  },
  {
   "cell_type": "markdown",
   "metadata": {},
   "source": [
    "Escalando los datos y diviendolos en entrenamiento y validacion"
   ]
  },
  {
   "cell_type": "code",
   "execution_count": 185,
   "metadata": {},
   "outputs": [],
   "source": [
    "Y = df.iloc[:,0]\n",
    "X = df.iloc[:,1:]\n",
    "scaler = MinMaxScaler()\n",
    "X = pd.DataFrame(scaler.fit_transform(X), columns = X.columns)\n",
    "X_train, X_test, y_train, y_test = train_test_split(X, Y, test_size=0.8, random_state=0)"
   ]
  },
  {
   "cell_type": "markdown",
   "metadata": {},
   "source": [
    "Entrenando el arbol de decisión."
   ]
  },
  {
   "cell_type": "code",
   "execution_count": 186,
   "metadata": {},
   "outputs": [
    {
     "data": {
      "text/plain": [
       "<matplotlib.axes._subplots.AxesSubplot at 0x21b23ac4128>"
      ]
     },
     "execution_count": 186,
     "metadata": {},
     "output_type": "execute_result"
    },
    {
     "data": {
      "image/png": "[encoded data removed]",
      "text/plain": [
       "<Figure size 2160x1080 with 1 Axes>"
      ]
     },
     "metadata": {},
     "output_type": "display_data"
    }
   ],
   "source": [
    "lista = []\n",
    "for i in range(1,20):\n",
    "    model =  DecisionTreeRegressor(max_depth=i,random_state=0)\n",
    "    model.fit(X_train, y_train)\n",
    "    y_predicted = model.predict(X_test)\n",
    "    # MSE\n",
    "    lista.append([i,mean_squared_error(y_test, y_predicted)])\n",
    "\n",
    "df_MSE = pd.DataFrame(lista,columns = [\"Complejidad\", \"MSE\"])\n",
    "sb.lineplot(x = 'Complejidad', y= 'MSE', data =df_MSE) "
   ]
  },
  {
   "cell_type": "markdown",
   "metadata": {},
   "source": [
    "Al entrenar el modelo y validarlo se puede obtener que este obtiene el minimo MSE cuando la complejidad es 7. Además podemos observar que para el modelo de 13 variables se tiene que para 7 se obtiene el minimo error, entonces se podria decir que podando el arbol este error se reduce."
   ]
  },
  {
   "cell_type": "markdown",
   "metadata": {},
   "source": [
    "Usando **Cross Validation** para determinar el nivel optimo de complejidad del arbol"
   ]
  },
  {
   "cell_type": "code",
   "execution_count": 8,
   "metadata": {},
   "outputs": [
    {
     "data": {
      "text/plain": [
       "<matplotlib.axes._subplots.AxesSubplot at 0x26e4fa97438>"
      ]
     },
     "execution_count": 8,
     "metadata": {},
     "output_type": "execute_result"
    },
    {
     "data": {
      "image/png": "[encoded data removed]",
      "text/plain": [
       "<Figure size 432x288 with 1 Axes>"
      ]
     },
     "metadata": {
      "needs_background": "light"
     },
     "output_type": "display_data"
    }
   ],
   "source": [
    "depth = []\n",
    "for i in range(1,20):\n",
    "    clf = tree.DecisionTreeRegressor(max_depth=i)\n",
    "    # Perform 7-fold cross validation \n",
    "    scores = cross_val_score(estimator=clf, X=X_train, y=y_train, cv=7, n_jobs=4)\n",
    "    depth.append((i,scores.mean()))\n",
    "\n",
    "df_cross = pd.DataFrame(depth, columns =[\"Complejidad\", \"Score\"])\n",
    "sb.lineplot(x = 'Complejidad', y= 'Score', data =df_cross) "
   ]
  },
  {
   "cell_type": "markdown",
   "metadata": {},
   "source": [
    "Al graficar la complejidad del arbol con respecto al score nos damos cuenta que el optimo del arbol está en 2, por lo tanto, se podría decir, que en este caso podar el arbol si mejora la precisión de la predicción y por lo tanto el MSE."
   ]
  },
  {
   "cell_type": "markdown",
   "metadata": {},
   "source": [
    "Haciendo un **bagging** (es decir, que todas las predictoras sean consideradas en cada particion del arbol)"
   ]
  },
  {
   "cell_type": "code",
   "execution_count": 12,
   "metadata": {},
   "outputs": [
    {
     "data": {
      "text/plain": [
       "3.0299964874999996"
      ]
     },
     "execution_count": 12,
     "metadata": {},
     "output_type": "execute_result"
    }
   ],
   "source": [
    "forest = RandomForestRegressor(warm_start=True, oob_score=True, max_features = 10)\n",
    "forest.fit(X_train, y_train)\n",
    "y_pred = forest.predict(X_test)\n",
    "mean_squared_error(y_test, y_pred)"
   ]
  },
  {
   "cell_type": "markdown",
   "metadata": {},
   "source": [
    "Considerando todas las variables en cada split del arbol se tiene un **MSE** de 3.02. \n",
    "Obteniendo la importancia de las variables:"
   ]
  },
  {
   "cell_type": "code",
   "execution_count": 13,
   "metadata": {},
   "outputs": [
    {
     "data": {
      "text/plain": [
       "{'CompPrice': 0.08482213039039502,\n",
       " 'Income': 0.030965833827780807,\n",
       " 'Advertising': 0.07315331596135652,\n",
       " 'Population': 0.02084788091223591,\n",
       " 'Price': 0.39050451159827004,\n",
       " 'ShelveLoc': 0.2627996366535973,\n",
       " 'Age': 0.0828456856323446,\n",
       " 'Education': 0.03770643448555376,\n",
       " 'Urban': 0.010268905147563161,\n",
       " 'US': 0.006085665390902864}"
      ]
     },
     "execution_count": 13,
     "metadata": {},
     "output_type": "execute_result"
    }
   ],
   "source": [
    "importance = dict(zip(X_test.columns,forest.feature_importances_))\n",
    "importance"
   ]
  },
  {
   "cell_type": "markdown",
   "metadata": {},
   "source": [
    "Obtenemos que las variables mas importantes para la regresion del random forest son: **Price**, **ShelveLoc**, **Advertising**\n"
   ]
  },
  {
   "cell_type": "markdown",
   "metadata": {},
   "source": [
    "Obteniendo el cambio del mse con respecto al numero de variables de importancia obtenidas del punto anterio"
   ]
  },
  {
   "cell_type": "code",
   "execution_count": 24,
   "metadata": {},
   "outputs": [
    {
     "data": {
      "text/plain": [
       "<matplotlib.axes._subplots.AxesSubplot at 0x26e501106a0>"
      ]
     },
     "execution_count": 24,
     "metadata": {},
     "output_type": "execute_result"
    },
    {
     "data": {
      "image/png": "[encoded data removed]",
      "text/plain": [
       "<Figure size 432x288 with 1 Axes>"
      ]
     },
     "metadata": {
      "needs_background": "light"
     },
     "output_type": "display_data"
    }
   ],
   "source": [
    "#np.random.seed(2020202)\n",
    "lista = []\n",
    "for i in range(1,20):\n",
    "    clf = RandomForestRegressor(max_features = 10)\n",
    "    clf.fit(X_train, y_train)\n",
    "    y_pred = clf.predict(X_test)\n",
    "    lista.append((i,mean_squared_error(y_test, y_pred)))\n",
    "\n",
    "df_cross = pd.DataFrame(lista, columns =[\"Variables Split\", \"MSE\"])\n",
    "sb.lineplot(x = 'Variables Split', y= 'MSE', data =df_cross) "
   ]
  },
  {
   "cell_type": "markdown",
   "metadata": {},
   "source": [
    "En este caso obtenemos un MSE de 4.5"
   ]
  },
  {
   "cell_type": "markdown",
   "metadata": {},
   "source": [
    "### Ejercicio 9"
   ]
  },
  {
   "cell_type": "code",
   "execution_count": 2,
   "metadata": {
    "scrolled": true
   },
   "outputs": [
    {
     "data": {
      "text/html": [
       "<div>\n",
       "<style scoped>\n",
       "    .dataframe tbody tr th:only-of-type {\n",
       "        vertical-align: middle;\n",
       "    }\n",
       "\n",
       "    .dataframe tbody tr th {\n",
       "        vertical-align: top;\n",
       "    }\n",
       "\n",
       "    .dataframe thead th {\n",
       "        text-align: right;\n",
       "    }\n",
       "</style>\n",
       "<table border=\"1\" class=\"dataframe\">\n",
       "  <thead>\n",
       "    <tr style=\"text-align: right;\">\n",
       "      <th></th>\n",
       "      <th>Purchase</th>\n",
       "      <th>WeekofPurchase</th>\n",
       "      <th>StoreID</th>\n",
       "      <th>PriceCH</th>\n",
       "      <th>PriceMM</th>\n",
       "      <th>DiscCH</th>\n",
       "      <th>DiscMM</th>\n",
       "      <th>SpecialCH</th>\n",
       "      <th>SpecialMM</th>\n",
       "      <th>LoyalCH</th>\n",
       "      <th>SalePriceMM</th>\n",
       "      <th>SalePriceCH</th>\n",
       "      <th>PriceDiff</th>\n",
       "      <th>Store7</th>\n",
       "      <th>PctDiscMM</th>\n",
       "      <th>PctDiscCH</th>\n",
       "      <th>ListPriceDiff</th>\n",
       "      <th>STORE</th>\n",
       "    </tr>\n",
       "  </thead>\n",
       "  <tbody>\n",
       "    <tr>\n",
       "      <th>0</th>\n",
       "      <td>CH</td>\n",
       "      <td>237</td>\n",
       "      <td>1</td>\n",
       "      <td>1.75</td>\n",
       "      <td>1.99</td>\n",
       "      <td>0.0</td>\n",
       "      <td>0.0</td>\n",
       "      <td>0</td>\n",
       "      <td>0</td>\n",
       "      <td>0.5</td>\n",
       "      <td>1.99</td>\n",
       "      <td>1.75</td>\n",
       "      <td>0.24</td>\n",
       "      <td>No</td>\n",
       "      <td>0.000000</td>\n",
       "      <td>0.0</td>\n",
       "      <td>0.24</td>\n",
       "      <td>1</td>\n",
       "    </tr>\n",
       "    <tr>\n",
       "      <th>1</th>\n",
       "      <td>CH</td>\n",
       "      <td>239</td>\n",
       "      <td>1</td>\n",
       "      <td>1.75</td>\n",
       "      <td>1.99</td>\n",
       "      <td>0.0</td>\n",
       "      <td>0.3</td>\n",
       "      <td>0</td>\n",
       "      <td>1</td>\n",
       "      <td>0.6</td>\n",
       "      <td>1.69</td>\n",
       "      <td>1.75</td>\n",
       "      <td>-0.06</td>\n",
       "      <td>No</td>\n",
       "      <td>0.150754</td>\n",
       "      <td>0.0</td>\n",
       "      <td>0.24</td>\n",
       "      <td>1</td>\n",
       "    </tr>\n",
       "  </tbody>\n",
       "</table>\n",
       "</div>"
      ],
      "text/plain": [
       "  Purchase  WeekofPurchase  StoreID  PriceCH  PriceMM  DiscCH  DiscMM  \\\n",
       "0       CH             237        1     1.75     1.99     0.0     0.0   \n",
       "1       CH             239        1     1.75     1.99     0.0     0.3   \n",
       "\n",
       "   SpecialCH  SpecialMM  LoyalCH  SalePriceMM  SalePriceCH  PriceDiff Store7  \\\n",
       "0          0          0      0.5         1.99         1.75       0.24     No   \n",
       "1          0          1      0.6         1.69         1.75      -0.06     No   \n",
       "\n",
       "   PctDiscMM  PctDiscCH  ListPriceDiff  STORE  \n",
       "0   0.000000        0.0           0.24      1  \n",
       "1   0.150754        0.0           0.24      1  "
      ]
     },
     "execution_count": 2,
     "metadata": {},
     "output_type": "execute_result"
    }
   ],
   "source": [
    "df = pd.read_csv(\"datasets\\OJ.csv\")\n",
    "df = df.iloc[:,1:]\n",
    "df.head(2)"
   ]
  },
  {
   "cell_type": "markdown",
   "metadata": {},
   "source": [
    "Graficando las variables para observar su relación con respecto a la variable respuesta"
   ]
  },
  {
   "cell_type": "code",
   "execution_count": 3,
   "metadata": {},
   "outputs": [],
   "source": [
    "#CODIFICAMOS LAS VARIABLES DE TIPO FACTOR\n",
    "labelencoder = LabelEncoder()\n",
    "df['Purchase'] = labelencoder.fit_transform(df['Purchase'])\n",
    "df[\"Store7\"] = labelencoder.fit_transform(df['Store7'])"
   ]
  },
  {
   "cell_type": "code",
   "execution_count": 16,
   "metadata": {},
   "outputs": [
    {
     "data": {
      "text/plain": [
       "<matplotlib.axes._subplots.AxesSubplot at 0x21b1a7b0e10>"
      ]
     },
     "execution_count": 16,
     "metadata": {},
     "output_type": "execute_result"
    },
    {
     "data": {
      "image/png": "[encoded data removed]",
      "text/plain": [
       "<Figure size 2160x1080 with 16 Axes>"
      ]
     },
     "metadata": {},
     "output_type": "display_data"
    }
   ],
   "source": [
    "fig, axs = plt.subplots(2,8)\n",
    "sb.set(rc={'figure.figsize':(30,15)})\n",
    "sb.boxplot(x = df['Purchase'], y=df['WeekofPurchase'],\n",
    "                    data=df, ax=axs[0,0])\n",
    "sb.boxplot(x = df['Purchase'], y=df['StoreID'],\n",
    "                    data=df, ax=axs[0,1])\n",
    "sb.boxplot(x = df['Purchase'], y=df['PriceCH'],\n",
    "                    data=df,ax=axs[0,2])\n",
    "sb.boxplot(x = df['Purchase'], y=df['PriceMM'],\n",
    "                    data=df, ax=axs[0,3])\n",
    "sb.boxplot(x = df['Purchase'], y=df['DiscCH'],\n",
    "                    data=df, ax=axs[0,4])\n",
    "sb.boxplot(x = df['Purchase'], y=df['DiscMM'],\n",
    "                    data=df, ax=axs[0,5])\n",
    "sb.boxplot(x = df['Purchase'], y=df['SpecialCH'],\n",
    "                    data=df, ax=axs[1,0])\n",
    "sb.boxplot(x = df['Purchase'], y=df['SpecialMM'],\n",
    "                    data=df, ax=axs[1,1])\n",
    "sb.boxplot(x = df['Purchase'], y=df['LoyalCH'],\n",
    "                    data=df, ax=axs[1,2])\n",
    "sb.boxplot(x = df['Purchase'], y=df['SalePriceMM'],\n",
    "                    data=df, ax=axs[1,3])\n",
    "sb.boxplot(x = df['Purchase'], y=df['SalePriceCH'],\n",
    "                    data=df, ax=axs[1,4])\n",
    "sb.boxplot(x = df['Purchase'], y=df['PriceDiff'],\n",
    "                    data=df, ax=axs[1,5])\n",
    "sb.boxplot(x = df['Purchase'], y=df['Store7'],\n",
    "                    data=df, ax=axs[0,6])\n",
    "sb.boxplot(x = df['Purchase'], y=df['PctDiscMM'],\n",
    "                    data=df, ax=axs[1,6])\n",
    "sb.boxplot(x = df['Purchase'], y=df['PctDiscCH'],\n",
    "                    data=df, ax=axs[0,7])\n",
    "sb.boxplot(x = df['Purchase'], y=df['ListPriceDiff'],\n",
    "                    data=df, ax=axs[1,7])"
   ]
  },
  {
   "cell_type": "markdown",
   "metadata": {},
   "source": [
    "Observando los diagramas podemos observar que: \n",
    "* La variable LoyalCH parece ser una de las variables mas relacionadas con la variable respuesta teniendo en cuenta que se nota una diferencia de la media de esta variable con respecto a la variable respuesta. \n",
    "* Las variables están en diferentes escalas. \n",
    "* Se puede notar que el PriceCH tambien parece tener cierta influencia sobre la variable respuesta."
   ]
  },
  {
   "cell_type": "markdown",
   "metadata": {},
   "source": [
    "Se toma una muestra aleatoria del 75% equivalente a 800 muestras"
   ]
  },
  {
   "cell_type": "code",
   "execution_count": 21,
   "metadata": {},
   "outputs": [],
   "source": [
    "Y = df.iloc[:,0]\n",
    "X = df.iloc[:,1:]\n",
    "X_train, X_test, y_train, y_test = train_test_split(X, Y, test_size=0.26, random_state=0)"
   ]
  },
  {
   "cell_type": "markdown",
   "metadata": {},
   "source": [
    "Entrenando el arbol con Purchase como variable respuesta y las demas como predictoras"
   ]
  },
  {
   "cell_type": "code",
   "execution_count": 37,
   "metadata": {
    "scrolled": false
   },
   "outputs": [
    {
     "data": {
      "text/plain": [
       "DecisionTreeClassifier(ccp_alpha=0.0, class_weight=None, criterion='gini',\n",
       "                       max_depth=None, max_features=None, max_leaf_nodes=None,\n",
       "                       min_impurity_decrease=0.0, min_impurity_split=None,\n",
       "                       min_samples_leaf=1, min_samples_split=2,\n",
       "                       min_weight_fraction_leaf=0.0, presort='deprecated',\n",
       "                       random_state=0, splitter='best')"
      ]
     },
     "execution_count": 37,
     "metadata": {},
     "output_type": "execute_result"
    }
   ],
   "source": [
    "clf = DecisionTreeClassifier(random_state=0)\n",
    "clf.fit(X_train, y_train)"
   ]
  },
  {
   "cell_type": "markdown",
   "metadata": {},
   "source": [
    "Graficando el arbol podemos ver que hay 8  nodos terminales.\n"
   ]
  },
  {
   "cell_type": "markdown",
   "metadata": {},
   "source": [
    "Obteniendo la tasa de error"
   ]
  },
  {
   "cell_type": "code",
   "execution_count": 43,
   "metadata": {},
   "outputs": [
    {
     "data": {
      "text/plain": [
       "0.25806451612903225"
      ]
     },
     "execution_count": 43,
     "metadata": {},
     "output_type": "execute_result"
    }
   ],
   "source": [
    "y_pred = clf.predict(X_test)\n",
    "mean_squared_error(y_test, y_pred)"
   ]
  },
  {
   "cell_type": "markdown",
   "metadata": {},
   "source": [
    "Al entrenar el modelo obtenemos que el MSE es de 0.25"
   ]
  },
  {
   "cell_type": "code",
   "execution_count": null,
   "metadata": {},
   "outputs": [],
   "source": []
  },
  {
   "cell_type": "code",
   "execution_count": null,
   "metadata": {},
   "outputs": [],
   "source": []
  },
  {
   "cell_type": "markdown",
   "metadata": {},
   "source": [
    "### Ejercicio 10 "
   ]
  },
  {
   "cell_type": "code",
   "execution_count": 187,
   "metadata": {
    "scrolled": true
   },
   "outputs": [
    {
     "data": {
      "text/html": [
       "<div>\n",
       "<style scoped>\n",
       "    .dataframe tbody tr th:only-of-type {\n",
       "        vertical-align: middle;\n",
       "    }\n",
       "\n",
       "    .dataframe tbody tr th {\n",
       "        vertical-align: top;\n",
       "    }\n",
       "\n",
       "    .dataframe thead th {\n",
       "        text-align: right;\n",
       "    }\n",
       "</style>\n",
       "<table border=\"1\" class=\"dataframe\">\n",
       "  <thead>\n",
       "    <tr style=\"text-align: right;\">\n",
       "      <th></th>\n",
       "      <th>AtBat</th>\n",
       "      <th>Hits</th>\n",
       "      <th>HmRun</th>\n",
       "      <th>Runs</th>\n",
       "      <th>RBI</th>\n",
       "      <th>Walks</th>\n",
       "      <th>Years</th>\n",
       "      <th>CAtBat</th>\n",
       "      <th>CHits</th>\n",
       "      <th>CHmRun</th>\n",
       "      <th>CRuns</th>\n",
       "      <th>CRBI</th>\n",
       "      <th>CWalks</th>\n",
       "      <th>League</th>\n",
       "      <th>Division</th>\n",
       "      <th>PutOuts</th>\n",
       "      <th>Assists</th>\n",
       "      <th>Errors</th>\n",
       "      <th>Salary</th>\n",
       "      <th>NewLeague</th>\n",
       "    </tr>\n",
       "  </thead>\n",
       "  <tbody>\n",
       "    <tr>\n",
       "      <th>0</th>\n",
       "      <td>293</td>\n",
       "      <td>66</td>\n",
       "      <td>1</td>\n",
       "      <td>30</td>\n",
       "      <td>29</td>\n",
       "      <td>14</td>\n",
       "      <td>1</td>\n",
       "      <td>293</td>\n",
       "      <td>66</td>\n",
       "      <td>1</td>\n",
       "      <td>30</td>\n",
       "      <td>29</td>\n",
       "      <td>14</td>\n",
       "      <td>A</td>\n",
       "      <td>E</td>\n",
       "      <td>446</td>\n",
       "      <td>33</td>\n",
       "      <td>20</td>\n",
       "      <td>NaN</td>\n",
       "      <td>A</td>\n",
       "    </tr>\n",
       "    <tr>\n",
       "      <th>1</th>\n",
       "      <td>315</td>\n",
       "      <td>81</td>\n",
       "      <td>7</td>\n",
       "      <td>24</td>\n",
       "      <td>38</td>\n",
       "      <td>39</td>\n",
       "      <td>14</td>\n",
       "      <td>3449</td>\n",
       "      <td>835</td>\n",
       "      <td>69</td>\n",
       "      <td>321</td>\n",
       "      <td>414</td>\n",
       "      <td>375</td>\n",
       "      <td>N</td>\n",
       "      <td>W</td>\n",
       "      <td>632</td>\n",
       "      <td>43</td>\n",
       "      <td>10</td>\n",
       "      <td>475.0</td>\n",
       "      <td>N</td>\n",
       "    </tr>\n",
       "  </tbody>\n",
       "</table>\n",
       "</div>"
      ],
      "text/plain": [
       "   AtBat  Hits  HmRun  Runs  RBI  Walks  Years  CAtBat  CHits  CHmRun  CRuns  \\\n",
       "0    293    66      1    30   29     14      1     293     66       1     30   \n",
       "1    315    81      7    24   38     39     14    3449    835      69    321   \n",
       "\n",
       "   CRBI  CWalks League Division  PutOuts  Assists  Errors  Salary NewLeague  \n",
       "0    29      14      A        E      446       33      20     NaN         A  \n",
       "1   414     375      N        W      632       43      10   475.0         N  "
      ]
     },
     "execution_count": 187,
     "metadata": {},
     "output_type": "execute_result"
    }
   ],
   "source": [
    "df = pd.read_csv(\"datasets\\Hitters.csv\")\n",
    "df = df.iloc[:,1:]\n",
    "df.head(2)"
   ]
  },
  {
   "cell_type": "markdown",
   "metadata": {},
   "source": [
    "<font color='blue'> (a) Remove the observations for whom the salary information is\n",
    "unknown, and then log-transform the salaries.<font>"
   ]
  },
  {
   "cell_type": "markdown",
   "metadata": {},
   "source": [
    " Eliminando las observaciones Nulas y transformando la variable respuesta Salario a lognormal"
   ]
  },
  {
   "cell_type": "code",
   "execution_count": 188,
   "metadata": {},
   "outputs": [],
   "source": [
    "df = df.dropna()\n",
    "df['Salario'] = np.log(df['Salary'])\n",
    "df = df.drop('Salary', 1)\n",
    "df['League'] = labelencoder.fit_transform(df['League'])\n",
    "df[\"NewLeague\"] = labelencoder.fit_transform(df['NewLeague'])\n",
    "df[\"Division\"] = labelencoder.fit_transform(df['Division'])"
   ]
  },
  {
   "cell_type": "markdown",
   "metadata": {},
   "source": [
    "<font color='blue'> (b) Create a training set consisting of the first 200 observations, and\n",
    "a test set consisting of the remaining observations.<font>"
   ]
  },
  {
   "cell_type": "code",
   "execution_count": 189,
   "metadata": {},
   "outputs": [],
   "source": [
    "Train = df.iloc[0:200] \n",
    "Test = df.iloc[201:]\n",
    "X_train = Train.iloc[:,0:19]\n",
    "Y_train = Train.iloc[:,19]\n",
    "X_test = Test.iloc[:,0:19]\n",
    "Y_test = Test.iloc[:,19]"
   ]
  },
  {
   "cell_type": "markdown",
   "metadata": {},
   "source": [
    "<font color='blue'>C.) Perform boosting on the training set with 1,000 trees for a range\n",
    "of values of the shrinkage parameter λ. Produce a plot with\n",
    "different shrinkage values on the x-axis and the corresponding\n",
    "training set MSE on the y-axis. </font>"
   ]
  },
  {
   "cell_type": "code",
   "execution_count": 194,
   "metadata": {},
   "outputs": [
    {
     "data": {
      "text/plain": [
       "<matplotlib.axes._subplots.AxesSubplot at 0x21b23b2f940>"
      ]
     },
     "execution_count": 194,
     "metadata": {},
     "output_type": "execute_result"
    },
    {
     "data": {
      "image/png": "[encoded data removed]",
      "text/plain": [
       "<Figure size 504x432 with 1 Axes>"
      ]
     },
     "metadata": {},
     "output_type": "display_data"
    }
   ],
   "source": [
    "lr_list = [0.0001, 0.001, 0.01, 0.1, 0.2, 0.3, 0.4, 0.5]\n",
    "lista = []\n",
    "\n",
    "for learning_rate in lr_list:\n",
    "    gb_clf = GradientBoostingRegressor(n_estimators=1000, learning_rate=learning_rate)\n",
    "    gb_clf.fit(X_train, Y_train)\n",
    "    y_pred = gb_clf.predict(X_train)\n",
    "    MSE = mean_squared_error(Y_train, y_pred)\n",
    "    lista.append((learning_rate, MSE))\n",
    "    \n",
    "df_cross = pd.DataFrame(lista, columns =[\"Learning Rate\", \"MSE\"])\n",
    "sb.set(rc={'figure.figsize':(7,6)})\n",
    "sb.lineplot(x=\"Learning Rate\", y=\"MSE\", data=df_cross)"
   ]
  },
  {
   "cell_type": "markdown",
   "metadata": {},
   "source": [
    "Podemos observar que el error de entrenamiento se reduce casi a cero con una tasa de aprendizaje muy baja. "
   ]
  },
  {
   "cell_type": "markdown",
   "metadata": {},
   "source": [
    "<font color='blue'> D. Produce a plot with different shrinkage values on the x-axis and\n",
    "the corresponding test set MSE on the y-axis. </font>"
   ]
  },
  {
   "cell_type": "code",
   "execution_count": 193,
   "metadata": {
    "scrolled": true
   },
   "outputs": [
    {
     "data": {
      "text/plain": [
       "<matplotlib.axes._subplots.AxesSubplot at 0x21b23118668>"
      ]
     },
     "execution_count": 193,
     "metadata": {},
     "output_type": "execute_result"
    },
    {
     "data": {
      "image/png": "[encoded data removed]",
      "text/plain": [
       "<Figure size 504x432 with 1 Axes>"
      ]
     },
     "metadata": {},
     "output_type": "display_data"
    }
   ],
   "source": [
    "lr_list = [0.0001, 0.001, 0.01, 0.1, 0.2, 0.3, 0.4, 0.5]\n",
    "lista = []\n",
    "\n",
    "for learning_rate in lr_list:\n",
    "    gb_clf = GradientBoostingRegressor(n_estimators=1000, learning_rate=learning_rate)\n",
    "    gb_clf.fit(X_train, Y_train)\n",
    "    y_pred = gb_clf.predict(X_test)\n",
    "    MSE = mean_squared_error(Y_test, y_pred)\n",
    "    lista.append((learning_rate, MSE))\n",
    "    \n",
    "df_cross = pd.DataFrame(lista, columns =[\"Learning Rate\", \"MSE\"])\n",
    "sb.set(rc={'figure.figsize':(7,6)})\n",
    "sb.lineplot(x=\"Learning Rate\", y=\"MSE\", data=df_cross)"
   ]
  },
  {
   "cell_type": "code",
   "execution_count": 142,
   "metadata": {},
   "outputs": [
    {
     "data": {
      "text/plain": [
       "[(0.0001, 0.5720295842302242),\n",
       " (0.001, 0.2605696514160957),\n",
       " (0.01, 0.22160368691250415),\n",
       " (0.1, 0.23579890043055485),\n",
       " (0.2, 0.2520871021439828),\n",
       " (0.3, 0.2223698521508051),\n",
       " (0.4, 0.28944365997216687),\n",
       " (0.5, 0.2964980506414013)]"
      ]
     },
     "execution_count": 142,
     "metadata": {},
     "output_type": "execute_result"
    }
   ],
   "source": [
    "lista"
   ]
  },
  {
   "cell_type": "markdown",
   "metadata": {},
   "source": [
    "Podemos observar que el minimo error de prueba es para un learning rate de 0.01"
   ]
  },
  {
   "cell_type": "markdown",
   "metadata": {},
   "source": [
    "<font color='blue'> e.) Compare the test MSE of boosting to the test MSE that results\n",
    "from applying two of the regression approaches seen in\n",
    "Chapters 3 and 6.  <font>"
   ]
  },
  {
   "cell_type": "markdown",
   "metadata": {},
   "source": [
    "Comparando el MSE del GB con respecto a RandomForest"
   ]
  },
  {
   "cell_type": "code",
   "execution_count": 144,
   "metadata": {},
   "outputs": [
    {
     "data": {
      "text/plain": [
       "0.22126042444698565"
      ]
     },
     "execution_count": 144,
     "metadata": {},
     "output_type": "execute_result"
    }
   ],
   "source": [
    "gb_clf = RandomForestRegressor(max_features = 10)\n",
    "gb_clf.fit(X_train, Y_train)\n",
    "y_pred = gb_clf.predict(X_test)\n",
    "mean_squared_error(Y_test, y_pred)"
   ]
  },
  {
   "cell_type": "markdown",
   "metadata": {},
   "source": [
    "Con respecto a al MSE de validación se puede observar que no hay mucha diferencia entre GB y randomforest"
   ]
  },
  {
   "cell_type": "markdown",
   "metadata": {},
   "source": [
    "Comparando el MSE de una regresión lineal con GB"
   ]
  },
  {
   "cell_type": "code",
   "execution_count": 147,
   "metadata": {},
   "outputs": [
    {
     "data": {
      "text/plain": [
       "0.46829206717274896"
      ]
     },
     "execution_count": 147,
     "metadata": {},
     "output_type": "execute_result"
    }
   ],
   "source": [
    "gb_clf = LinearRegression()\n",
    "gb_clf.fit(X_train, Y_train)\n",
    "y_pred = gb_clf.predict(X_test)\n",
    "mean_squared_error(Y_test, y_pred)"
   ]
  },
  {
   "cell_type": "markdown",
   "metadata": {},
   "source": [
    "Con respecto al GB una regresión lineal tiene mayor MSE de validacion"
   ]
  },
  {
   "cell_type": "markdown",
   "metadata": {},
   "source": [
    "<font color='blue'> f.) \n",
    "   Which variables appear to be the most important predictors in\n",
    "the boosted model?<font>"
   ]
  },
  {
   "cell_type": "code",
   "execution_count": 173,
   "metadata": {},
   "outputs": [
    {
     "data": {
      "text/plain": [
       "<matplotlib.axes._subplots.AxesSubplot at 0x21b2300bf60>"
      ]
     },
     "execution_count": 173,
     "metadata": {},
     "output_type": "execute_result"
    },
    {
     "data": {
      "image/png": "[encoded data removed]",
      "text/plain": [
       "<Figure size 2160x1080 with 1 Axes>"
      ]
     },
     "metadata": {},
     "output_type": "display_data"
    }
   ],
   "source": [
    "gb_clf = GradientBoostingRegressor(learning_rate=0.01)\n",
    "gb_clf.fit(X_train, Y_train)\n",
    "y_pred = gb_clf.predict(X_test)\n",
    "D = dict(zip(X_test.columns, gb_clf.feature_importances_))\n",
    "x = [key for key in D.keys()]\n",
    "y = [value for value in D.values()]\n",
    "sb.set(rc={'figure.figsize':(30,15)})\n",
    "sb.barplot(x,y)"
   ]
  },
  {
   "cell_type": "markdown",
   "metadata": {},
   "source": [
    "La variable que es mas importante para el modelo es: **CATBat**"
   ]
  },
  {
   "cell_type": "markdown",
   "metadata": {},
   "source": [
    "<font color='blue'> g.) Now apply bagging to the training set. What is the test set MSE for this approach ? <font>\n"
   ]
  },
  {
   "cell_type": "markdown",
   "metadata": {},
   "source": [
    "Para hacer bagging el numero maximo de predictoras usadas en el entrenamiento debe ser igual al total de predictoras"
   ]
  },
  {
   "cell_type": "code",
   "execution_count": 174,
   "metadata": {},
   "outputs": [
    {
     "data": {
      "text/plain": [
       "5.44333223035097e-06"
      ]
     },
     "execution_count": 174,
     "metadata": {},
     "output_type": "execute_result"
    }
   ],
   "source": [
    "gb_clf = GradientBoostingRegressor(max_features = 19 , learning_rate=learning_rate)\n",
    "gb_clf.fit(X_train, Y_train)\n",
    "y_pred = gb_clf.predict(X_train)\n",
    "mean_squared_error(Y_train, y_pred)"
   ]
  },
  {
   "cell_type": "markdown",
   "metadata": {},
   "source": [
    "Haciendo bagging podemos obtener que el MSE de entrenamiento es muy bajo"
   ]
  },
  {
   "cell_type": "markdown",
   "metadata": {},
   "source": [
    "### Ejercicio 11"
   ]
  },
  {
   "cell_type": "markdown",
   "metadata": {},
   "source": [
    "Importando el Dataset Caravan"
   ]
  },
  {
   "cell_type": "code",
   "execution_count": 204,
   "metadata": {},
   "outputs": [
    {
     "data": {
      "text/html": [
       "<div>\n",
       "<style scoped>\n",
       "    .dataframe tbody tr th:only-of-type {\n",
       "        vertical-align: middle;\n",
       "    }\n",
       "\n",
       "    .dataframe tbody tr th {\n",
       "        vertical-align: top;\n",
       "    }\n",
       "\n",
       "    .dataframe thead th {\n",
       "        text-align: right;\n",
       "    }\n",
       "</style>\n",
       "<table border=\"1\" class=\"dataframe\">\n",
       "  <thead>\n",
       "    <tr style=\"text-align: right;\">\n",
       "      <th></th>\n",
       "      <th>MOSTYPE</th>\n",
       "      <th>MAANTHUI</th>\n",
       "      <th>MGEMOMV</th>\n",
       "      <th>MGEMLEEF</th>\n",
       "      <th>MOSHOOFD</th>\n",
       "      <th>MGODRK</th>\n",
       "      <th>MGODPR</th>\n",
       "      <th>MGODOV</th>\n",
       "      <th>MGODGE</th>\n",
       "      <th>MRELGE</th>\n",
       "      <th>...</th>\n",
       "      <th>APERSONG</th>\n",
       "      <th>AGEZONG</th>\n",
       "      <th>AWAOREG</th>\n",
       "      <th>ABRAND</th>\n",
       "      <th>AZEILPL</th>\n",
       "      <th>APLEZIER</th>\n",
       "      <th>AFIETS</th>\n",
       "      <th>AINBOED</th>\n",
       "      <th>ABYSTAND</th>\n",
       "      <th>Purchase</th>\n",
       "    </tr>\n",
       "  </thead>\n",
       "  <tbody>\n",
       "    <tr>\n",
       "      <th>0</th>\n",
       "      <td>33</td>\n",
       "      <td>1</td>\n",
       "      <td>3</td>\n",
       "      <td>2</td>\n",
       "      <td>8</td>\n",
       "      <td>0</td>\n",
       "      <td>5</td>\n",
       "      <td>1</td>\n",
       "      <td>3</td>\n",
       "      <td>7</td>\n",
       "      <td>...</td>\n",
       "      <td>0</td>\n",
       "      <td>0</td>\n",
       "      <td>0</td>\n",
       "      <td>1</td>\n",
       "      <td>0</td>\n",
       "      <td>0</td>\n",
       "      <td>0</td>\n",
       "      <td>0</td>\n",
       "      <td>0</td>\n",
       "      <td>No</td>\n",
       "    </tr>\n",
       "    <tr>\n",
       "      <th>1</th>\n",
       "      <td>37</td>\n",
       "      <td>1</td>\n",
       "      <td>2</td>\n",
       "      <td>2</td>\n",
       "      <td>8</td>\n",
       "      <td>1</td>\n",
       "      <td>4</td>\n",
       "      <td>1</td>\n",
       "      <td>4</td>\n",
       "      <td>6</td>\n",
       "      <td>...</td>\n",
       "      <td>0</td>\n",
       "      <td>0</td>\n",
       "      <td>0</td>\n",
       "      <td>1</td>\n",
       "      <td>0</td>\n",
       "      <td>0</td>\n",
       "      <td>0</td>\n",
       "      <td>0</td>\n",
       "      <td>0</td>\n",
       "      <td>No</td>\n",
       "    </tr>\n",
       "  </tbody>\n",
       "</table>\n",
       "<p>2 rows × 86 columns</p>\n",
       "</div>"
      ],
      "text/plain": [
       "   MOSTYPE  MAANTHUI  MGEMOMV  MGEMLEEF  MOSHOOFD  MGODRK  MGODPR  MGODOV  \\\n",
       "0       33         1        3         2         8       0       5       1   \n",
       "1       37         1        2         2         8       1       4       1   \n",
       "\n",
       "   MGODGE  MRELGE  ...  APERSONG  AGEZONG  AWAOREG  ABRAND  AZEILPL  APLEZIER  \\\n",
       "0       3       7  ...         0        0        0       1        0         0   \n",
       "1       4       6  ...         0        0        0       1        0         0   \n",
       "\n",
       "   AFIETS  AINBOED  ABYSTAND  Purchase  \n",
       "0       0        0         0        No  \n",
       "1       0        0         0        No  \n",
       "\n",
       "[2 rows x 86 columns]"
      ]
     },
     "execution_count": 204,
     "metadata": {},
     "output_type": "execute_result"
    }
   ],
   "source": [
    "df = pd.read_csv(\"datasets\\Caravan.csv\")\n",
    "df = df.iloc[:,1:]\n",
    "df.head(2)"
   ]
  },
  {
   "cell_type": "markdown",
   "metadata": {},
   "source": [
    "<font color='blue'>a.) Create a training set consisting of the first 1,000 observations,\n",
    "and a test set consisting of the remaining observations.<font>"
   ]
  },
  {
   "cell_type": "markdown",
   "metadata": {},
   "source": [
    "Creando un data set partiendo los datos en 1000 para entrenamiento y el resto para pruebas"
   ]
  },
  {
   "cell_type": "code",
   "execution_count": 205,
   "metadata": {},
   "outputs": [],
   "source": [
    "Train = df.iloc[0:1000] \n",
    "Test = df.iloc[1001:]"
   ]
  },
  {
   "cell_type": "markdown",
   "metadata": {},
   "source": [
    "<font color='blue'>b.) Fit a boosting model to the training set with Purchase as the\n",
    "response and the other variables as predictors. Use 1,000 trees,\n",
    "and a shrinkage value of 0.01. Which predictors appear to be\n",
    "the most important?<font>"
   ]
  },
  {
   "cell_type": "code",
   "execution_count": 209,
   "metadata": {},
   "outputs": [
    {
     "data": {
      "text/plain": [
       "GradientBoostingClassifier(ccp_alpha=0.0, criterion='friedman_mse', init=None,\n",
       "                           learning_rate=0.01, loss='deviance', max_depth=3,\n",
       "                           max_features=None, max_leaf_nodes=None,\n",
       "                           min_impurity_decrease=0.0, min_impurity_split=None,\n",
       "                           min_samples_leaf=1, min_samples_split=2,\n",
       "                           min_weight_fraction_leaf=0.0, n_estimators=1000,\n",
       "                           n_iter_no_change=None, presort='deprecated',\n",
       "                           random_state=None, subsample=1.0, tol=0.0001,\n",
       "                           validation_fraction=0.1, verbose=0,\n",
       "                           warm_start=False)"
      ]
     },
     "execution_count": 209,
     "metadata": {},
     "output_type": "execute_result"
    }
   ],
   "source": [
    "X_train = Train.iloc[:,0:85]\n",
    "Y_train = Train.iloc[:,-1]\n",
    "X_test = Test.iloc[:,0:85]\n",
    "Y_test = Test.iloc[:,-1]\n",
    "\n",
    "clf = GradientBoostingClassifier(n_estimators = 1000, learning_rate  = 0.01)\n",
    "clf.fit(X_train,Y_train)"
   ]
  },
  {
   "cell_type": "code",
   "execution_count": 213,
   "metadata": {},
   "outputs": [
    {
     "data": {
      "text/plain": [
       "{'MOSTYPE': 0.06301424200531326,\n",
       " 'MAANTHUI': 0.0007459590770310122,\n",
       " 'MGEMOMV': 0.0030811049113894273,\n",
       " 'MGEMLEEF': 0.0019165622304831782,\n",
       " 'MOSHOOFD': 0.014221860590631937,\n",
       " 'MGODRK': 0.006879559074550392,\n",
       " 'MGODPR': 0.03576300417318777,\n",
       " 'MGODOV': 0.004246532391473419,\n",
       " 'MGODGE': 0.05331277480725839,\n",
       " 'MRELGE': 0.01747367386151503,\n",
       " 'MRELSA': 0.007191794339045778,\n",
       " 'MRELOV': 0.010242683129851894,\n",
       " 'MFALLEEN': 0.024555066655891914,\n",
       " 'MFGEKIND': 0.012442871348348627,\n",
       " 'MFWEKIND': 0.012384840934063883,\n",
       " 'MOPLHOOG': 0.045093046839876166,\n",
       " 'MOPLMIDD': 0.007409959653275468,\n",
       " 'MOPLLAAG': 0.003019832283479399,\n",
       " 'MBERHOOG': 0.0065318848853556,\n",
       " 'MBERZELF': 0.00204566916256223,\n",
       " 'MBERBOER': 0.0055487666539062,\n",
       " 'MBERMIDD': 0.04245151906129177,\n",
       " 'MBERARBG': 0.021622351765551093,\n",
       " 'MBERARBO': 0.002059587340476553,\n",
       " 'MSKA': 0.012717763867760603,\n",
       " 'MSKB1': 0.021858857818713523,\n",
       " 'MSKB2': 0.00405601419175928,\n",
       " 'MSKC': 0.0057937815345750245,\n",
       " 'MSKD': 0.00963437363054282,\n",
       " 'MHHUUR': 0.004560207383050417,\n",
       " 'MHKOOP': 0.0028356729540406755,\n",
       " 'MAUT1': 0.005604703544470385,\n",
       " 'MAUT2': 0.006530225757628429,\n",
       " 'MAUT0': 0.005538645353896494,\n",
       " 'MZFONDS': 0.008226850877885035,\n",
       " 'MZPART': 0.006953359137872143,\n",
       " 'MINKM30': 0.014476510416217336,\n",
       " 'MINK3045': 0.01521020274506132,\n",
       " 'MINK4575': 0.0040278532583160175,\n",
       " 'MINK7512': 0.007846212493025837,\n",
       " 'MINK123M': 0.0001143875543557657,\n",
       " 'MINKGEM': 0.0049788688506319356,\n",
       " 'MKOOPKLA': 0.048395520157171225,\n",
       " 'PWAPART': 0.021819941274069672,\n",
       " 'PWABEDR': 5.280191007587138e-06,\n",
       " 'PWALAND': 0.00035864095256365943,\n",
       " 'PPERSAUT': 0.07569027691568017,\n",
       " 'PBESAUT': 1.2299236300222757e-06,\n",
       " 'PMOTSCO': 0.007766104759607388,\n",
       " 'PVRAAUT': 0.0,\n",
       " 'PAANHANG': 7.705710048401069e-06,\n",
       " 'PTRACTOR': 7.495599964080824e-05,\n",
       " 'PWERKT': 0.0,\n",
       " 'PBROM': 0.0,\n",
       " 'PLEVEN': 0.025119204335234683,\n",
       " 'PPERSONG': 0.0,\n",
       " 'PGEZONG': 0.019301397940945497,\n",
       " 'PWAOREG': 0.015519152725984966,\n",
       " 'PBRAND': 0.027403658178679808,\n",
       " 'PZEILPL': 0.006248960077636847,\n",
       " 'PPLEZIER': 0.03531173967261106,\n",
       " 'PFIETS': 0.0003325486224659938,\n",
       " 'PINBOED': 2.2016626863399633e-05,\n",
       " 'PBYSTAND': 0.016880460871189235,\n",
       " 'AWAPART': 0.005422013504702389,\n",
       " 'AWABEDR': 2.5339273484431803e-07,\n",
       " 'AWALAND': 0.0002861152874238471,\n",
       " 'APERSAUT': 0.004750912382379615,\n",
       " 'ABESAUT': 3.37909485233389e-05,\n",
       " 'AMOTSCO': 0.028138565602146063,\n",
       " 'AVRAAUT': 0.0,\n",
       " 'AAANHANG': 1.9108918353101965e-06,\n",
       " 'ATRACTOR': 3.7146780913138314e-10,\n",
       " 'AWERKT': 0.0,\n",
       " 'ABROM': 0.0,\n",
       " 'ALEVEN': 0.0011171058233573766,\n",
       " 'APERSONG': 0.0,\n",
       " 'AGEZONG': 0.0009504316825954677,\n",
       " 'AWAOREG': 0.01488997400864125,\n",
       " 'ABRAND': 0.05633948916808284,\n",
       " 'AZEILPL': 0.007588404773268622,\n",
       " 'APLEZIER': 0.026293068546927787,\n",
       " 'AFIETS': 0.006482512693539924,\n",
       " 'AINBOED': 1.3694221348875877e-05,\n",
       " 'ABYSTAND': 0.00321332322038055}"
      ]
     },
     "execution_count": 213,
     "metadata": {},
     "output_type": "execute_result"
    }
   ],
   "source": [
    "D = dict(zip(X_test.columns, clf.feature_importances_))\n",
    "D"
   ]
  },
  {
   "cell_type": "markdown",
   "metadata": {},
   "source": [
    "Las variables que mas tienen importancia para el modelo son: **PAANHANG** , **PTRACTOR**"
   ]
  },
  {
   "cell_type": "markdown",
   "metadata": {},
   "source": [
    "<font color='blue'>c.) Use the boosting model to predict the response on the test data.\n",
    "Predict that a person will make a purchase if the estimated probability\n",
    "of purchase is greater than 20 %. Form a confusion matrix.\n",
    "What fraction of the people predicted to make a purchase\n",
    "do in fact make one? How does this compare with the results\n",
    "obtained from applying KNN or logistic regression to this data\n",
    "set?<font>"
   ]
  },
  {
   "cell_type": "code",
   "execution_count": 211,
   "metadata": {
    "scrolled": true
   },
   "outputs": [
    {
     "name": "stdout",
     "output_type": "stream",
     "text": [
      "              precision    recall  f1-score   support\n",
      "\n",
      "          No       0.94      0.99      0.97      4532\n",
      "         Yes       0.25      0.06      0.09       289\n",
      "\n",
      "    accuracy                           0.93      4821\n",
      "   macro avg       0.60      0.52      0.53      4821\n",
      "weighted avg       0.90      0.93      0.91      4821\n",
      "\n"
     ]
    }
   ],
   "source": [
    "print(classification_report(Y_test, clf.predict(X_test)))"
   ]
  },
  {
   "cell_type": "markdown",
   "metadata": {},
   "source": []
  },
  {
   "cell_type": "markdown",
   "metadata": {},
   "source": [
    "### Ejercicio 12"
   ]
  },
  {
   "cell_type": "markdown",
   "metadata": {},
   "source": [
    "<font color='blue'>Apply boosting, bagging, and random forests to a data set of your\n",
    "choice. Be sure to fit the models on a training set and to evaluate their\n",
    "performance on a test set. How accurate are the results compared\n",
    "to simple methods like linear or logistic regression? Which of these\n",
    "approaches yields the best performance?<font>"
   ]
  },
  {
   "cell_type": "code",
   "execution_count": 218,
   "metadata": {},
   "outputs": [
    {
     "data": {
      "text/html": [
       "<div>\n",
       "<style scoped>\n",
       "    .dataframe tbody tr th:only-of-type {\n",
       "        vertical-align: middle;\n",
       "    }\n",
       "\n",
       "    .dataframe tbody tr th {\n",
       "        vertical-align: top;\n",
       "    }\n",
       "\n",
       "    .dataframe thead th {\n",
       "        text-align: right;\n",
       "    }\n",
       "</style>\n",
       "<table border=\"1\" class=\"dataframe\">\n",
       "  <thead>\n",
       "    <tr style=\"text-align: right;\">\n",
       "      <th></th>\n",
       "      <th>year</th>\n",
       "      <th>age</th>\n",
       "      <th>sex</th>\n",
       "      <th>maritl</th>\n",
       "      <th>race</th>\n",
       "      <th>education</th>\n",
       "      <th>region</th>\n",
       "      <th>jobclass</th>\n",
       "      <th>health</th>\n",
       "      <th>health_ins</th>\n",
       "      <th>logwage</th>\n",
       "    </tr>\n",
       "  </thead>\n",
       "  <tbody>\n",
       "    <tr>\n",
       "      <th>0</th>\n",
       "      <td>2006</td>\n",
       "      <td>18</td>\n",
       "      <td>1. Male</td>\n",
       "      <td>1. Never Married</td>\n",
       "      <td>1. White</td>\n",
       "      <td>1. &lt; HS Grad</td>\n",
       "      <td>2. Middle Atlantic</td>\n",
       "      <td>1. Industrial</td>\n",
       "      <td>1. &lt;=Good</td>\n",
       "      <td>2. No</td>\n",
       "      <td>4.318063</td>\n",
       "    </tr>\n",
       "    <tr>\n",
       "      <th>1</th>\n",
       "      <td>2004</td>\n",
       "      <td>24</td>\n",
       "      <td>1. Male</td>\n",
       "      <td>1. Never Married</td>\n",
       "      <td>1. White</td>\n",
       "      <td>4. College Grad</td>\n",
       "      <td>2. Middle Atlantic</td>\n",
       "      <td>2. Information</td>\n",
       "      <td>2. &gt;=Very Good</td>\n",
       "      <td>2. No</td>\n",
       "      <td>4.255273</td>\n",
       "    </tr>\n",
       "  </tbody>\n",
       "</table>\n",
       "</div>"
      ],
      "text/plain": [
       "   year  age      sex            maritl      race        education  \\\n",
       "0  2006   18  1. Male  1. Never Married  1. White     1. < HS Grad   \n",
       "1  2004   24  1. Male  1. Never Married  1. White  4. College Grad   \n",
       "\n",
       "               region        jobclass          health health_ins   logwage  \n",
       "0  2. Middle Atlantic   1. Industrial       1. <=Good      2. No  4.318063  \n",
       "1  2. Middle Atlantic  2. Information  2. >=Very Good      2. No  4.255273  "
      ]
     },
     "execution_count": 218,
     "metadata": {},
     "output_type": "execute_result"
    }
   ],
   "source": [
    "df = pd.read_csv(\"datasets\\wage.csv\")\n",
    "df = df.iloc[:,1:12]\n",
    "df.head(2)"
   ]
  },
  {
   "cell_type": "code",
   "execution_count": 221,
   "metadata": {},
   "outputs": [],
   "source": [
    "labelencoder = LabelEncoder()\n",
    "df[\"sex\"] = labelencoder.fit_transform(df['sex'])\n",
    "df[\"maritl\"] = labelencoder.fit_transform(df['maritl'])\n",
    "df[\"race\"] = labelencoder.fit_transform(df['race'])\n",
    "df[\"education\"] = labelencoder.fit_transform(df['education'])\n",
    "df[\"region\"] = labelencoder.fit_transform(df['region'])\n",
    "df[\"jobclass\"] = labelencoder.fit_transform(df['jobclass'])\n",
    "df[\"health\"] = labelencoder.fit_transform(df['health'])\n",
    "df[\"health_ins\"] = labelencoder.fit_transform(df['health_ins'])\n",
    "\n",
    "#Splitting data\n",
    "\n",
    "X = df.iloc[:,0:9]\n",
    "Y = df.iloc[:,-1]\n",
    "X_train, X_test, y_train, y_test = train_test_split(X, Y, test_size=0.8, random_state=0)"
   ]
  },
  {
   "cell_type": "markdown",
   "metadata": {},
   "source": [
    "Aplicando Bosting, Bagging y Random forest al conjunto de datos"
   ]
  },
  {
   "cell_type": "markdown",
   "metadata": {},
   "source": [
    "**Boosting**"
   ]
  },
  {
   "cell_type": "code",
   "execution_count": 286,
   "metadata": {},
   "outputs": [],
   "source": [
    "gb_clf = GradientBoostingRegressor(learning_rate= 0.017)\n",
    "gb_clf.fit(X_train, y_train)\n",
    "y_pred = gb_clf.predict(X_test)\n",
    "MSE_BOOSTING = mean_squared_error(y_test, y_pred)"
   ]
  },
  {
   "cell_type": "markdown",
   "metadata": {},
   "source": [
    "**Bagging**"
   ]
  },
  {
   "cell_type": "code",
   "execution_count": 232,
   "metadata": {},
   "outputs": [],
   "source": [
    "gb_clf = GradientBoostingRegressor(max_features = 9)\n",
    "gb_clf.fit(X_train, y_train)\n",
    "y_pred = gb_clf.predict(X_test)\n",
    "MSE_BAGGING = mean_squared_error(y_test, y_pred)"
   ]
  },
  {
   "cell_type": "markdown",
   "metadata": {},
   "source": [
    "**Random Forest**"
   ]
  },
  {
   "cell_type": "code",
   "execution_count": 270,
   "metadata": {},
   "outputs": [],
   "source": [
    "gb_clf =RandomForestRegressor(max_features = 4, ccp_alpha = 0.001)\n",
    "gb_clf.fit(X_train, y_train)\n",
    "y_pred = gb_clf.predict(X_test)\n",
    "MSE_RF = mean_squared_error(y_test, y_pred)"
   ]
  },
  {
   "cell_type": "markdown",
   "metadata": {},
   "source": [
    "**linear Regression**"
   ]
  },
  {
   "cell_type": "code",
   "execution_count": 231,
   "metadata": {},
   "outputs": [],
   "source": [
    "gb_clf = LinearRegression()\n",
    "gb_clf.fit(X_train, y_train)\n",
    "y_pred = gb_clf.predict(X_test)\n",
    "MSE_LR = mean_squared_error(y_test, y_pred)"
   ]
  },
  {
   "cell_type": "code",
   "execution_count": 287,
   "metadata": {},
   "outputs": [
    {
     "name": "stdout",
     "output_type": "stream",
     "text": [
      "Boosting MSE: 0.09116543514505748\n",
      "Bagging MSE: 0.09585911489936189\n",
      "Random Forest MSE: 0.08959638641617637\n",
      "linear Regression MSE: 0.09402275498124815\n",
      "\n"
     ]
    }
   ],
   "source": [
    "print(\"Boosting MSE: \" + str(MSE_BOOSTING) + \"\\n\" + \n",
    "     \"Bagging MSE: \" + str(MSE_BAGGING) + \"\\n\" +\n",
    "     \"Random Forest MSE: \" + str(MSE_RF) + \"\\n\" +\n",
    "     \"linear Regression MSE: \" + str(MSE_LR) + \"\\n\")"
   ]
  },
  {
   "cell_type": "markdown",
   "metadata": {},
   "source": [
    "Podemos concluir que el mejor algoritmo para este caso es **Random Forest** con Error de **0.089**, seguido de **Boosting** con un Eroor de **0.091**. Por otro lado Bagging y la regresión lineal mantienen casi el mismo porcentaje de error."
   ]
  }
 ],
 "metadata": {
  "kernelspec": {
   "display_name": "Python 3",
   "language": "python",
   "name": "python3"
  },
  "language_info": {
   "codemirror_mode": {
    "name": "ipython",
    "version": 3
   },
   "file_extension": ".py",
   "mimetype": "text/x-python",
   "name": "python",
   "nbconvert_exporter": "python",
   "pygments_lexer": "ipython3",
   "version": "3.7.3"
  }
 },
 "nbformat": 4,
 "nbformat_minor": 2
}
